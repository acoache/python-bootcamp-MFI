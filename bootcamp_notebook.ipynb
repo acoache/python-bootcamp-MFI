{
 "cells": [
  {
   "cell_type": "markdown",
   "id": "c0fa30fe",
   "metadata": {},
   "source": [
    "# Python Bootcamp 2022\n",
    "\n",
    "This is the main notebook with code for the [Python bootcamp](https://github.com/acoache/python-bootcamp-MFI). We are using a Jupyter notebook to more easily illustrate the code with texts and visualizations."
   ]
  },
  {
   "cell_type": "markdown",
   "id": "02046d43",
   "metadata": {},
   "source": [
    "## 1. Install Python\n",
    "\n",
    "##### Windows\n",
    "- Use [Anaconda: https://www.anaconda.com/products/distribution](https://www.anaconda.com/products/distribution)\n",
    "- Install packages, IDE, etc. using Anaconda\n",
    "\n",
    "##### MacOS\n",
    "- Use Anaconda, or use Homebrew via the command line:\n",
    "/bin/bash -c \"$(curl -fsSL https://raw.githubusercontent.com/Homebrew/install/master/install.sh)\"\n",
    "- If you use Homebrew, download pip with the following: brew install python\n",
    "- Then use pip/pip3 to download packages and libraries\n",
    "- For more information, see the [Python documentation: https://docs.python-guide.org/starting/install3/osx/](https://docs.python-guide.org/starting/install3/osx/)\n",
    "\n",
    "##### Linux\n",
    "- If you use linux, you probably already have everything set up.\n",
    "\n",
    "##### Editors\n",
    "- Any text editors for code, e.g. [Sublime Text](https://www.sublimetext.com/), [Atom](https://atom.io/), [Notepad++](https://notepad-plus-plus.org/), etc., or IDEs for Python, e.g. [Spyder](https://www.spyder-ide.org/), [Jupyter](https://jupyter.org/), etc."
   ]
  },
  {
   "cell_type": "markdown",
   "id": "2fd4dd48",
   "metadata": {},
   "source": [
    "## 2. Set up directories\n",
    "\n",
    "The default directory is the first folder Jupyter loads into when it starts up. We can view the full path by loading the operating system package."
   ]
  },
  {
   "cell_type": "code",
   "execution_count": null,
   "id": "fa6575e2",
   "metadata": {},
   "outputs": [],
   "source": [
    "import os\n",
    "print(os.path.abspath(os.curdir)) # print the current directory\n",
    "print(os.listdir()) # print all files and folders in the current directory"
   ]
  },
  {
   "cell_type": "markdown",
   "id": "c5798abc",
   "metadata": {},
   "source": [
    "We can import (pre-installed) Python libraries, or import our own Python files and functions."
   ]
  },
  {
   "cell_type": "code",
   "execution_count": null,
   "id": "03ae7896",
   "metadata": {},
   "outputs": [],
   "source": [
    "from utils import func1  # import the function func1 from our helpers file\n",
    "\n",
    "# which functions are visible?"
   ]
  },
  {
   "cell_type": "code",
   "execution_count": null,
   "id": "17792574",
   "metadata": {},
   "outputs": [],
   "source": [
    "from utils import *  # import all functions from our helpers file\n",
    "\n",
    "# which functions are visible?"
   ]
  },
  {
   "cell_type": "code",
   "execution_count": null,
   "id": "bcac4df3",
   "metadata": {},
   "outputs": [],
   "source": [
    "import utils # import our helpers file as a package\n",
    "\n",
    "# which functions are visible?"
   ]
  },
  {
   "cell_type": "markdown",
   "id": "5911277d",
   "metadata": {},
   "source": [
    "## 3 Basic data types\n",
    "Here is an overview of the most used data types in Python, both for elements and sequences. For more information, see [built-in types documentation](https://docs.python.org/3/library/stdtypes.html)."
   ]
  },
  {
   "cell_type": "markdown",
   "id": "11f4f3db",
   "metadata": {},
   "source": [
    "### 3.1 Built-in types"
   ]
  },
  {
   "cell_type": "code",
   "execution_count": null,
   "id": "0469dc9c",
   "metadata": {},
   "outputs": [],
   "source": [
    "a = 5 # int\n",
    "b = 5.0 # float\n",
    "c = 3e-7 # float (scientific notation)\n",
    "d = \"5.0\" # string\n",
    "e = 1 + 1j * 5 # complex number\n",
    "f = 2\n",
    "\n",
    "print(type(a), type(b), type(c), type(d), type(e))"
   ]
  },
  {
   "cell_type": "code",
   "execution_count": null,
   "id": "cafec789",
   "metadata": {},
   "outputs": [],
   "source": [
    "# operations with ints produce ints, otherwise result is float\n",
    "print(type(a + a))\n",
    "print(type(a + b))\n",
    "print(type(a * b))\n",
    "print(type(d + d))"
   ]
  },
  {
   "cell_type": "code",
   "execution_count": null,
   "id": "3e6f79ab",
   "metadata": {},
   "outputs": [],
   "source": [
    "print(a / f) # division\n",
    "print(a // f) # floor division\n",
    "print(a % f) # modulo\n",
    "print(a ** f) # power "
   ]
  },
  {
   "cell_type": "code",
   "execution_count": null,
   "id": "484c50cc",
   "metadata": {},
   "outputs": [],
   "source": [
    "# verify data types of variables\n",
    "print(isinstance(a, int))\n",
    "print(isinstance(a, float))"
   ]
  },
  {
   "cell_type": "code",
   "execution_count": null,
   "id": "f78e259d",
   "metadata": {},
   "outputs": [],
   "source": [
    "bool1 = True; bool2 = False # boolean\n",
    "\n",
    "print(type(bool1))\n",
    "print(bool1 and bool2) # both values are True\n",
    "print(bool1 or bool2) # one of the values is True\n",
    "print(not bool1) # opposite of value"
   ]
  },
  {
   "cell_type": "code",
   "execution_count": null,
   "id": "f93ab4fd",
   "metadata": {},
   "outputs": [],
   "source": [
    "print(5 > 5) # strictly greater\n",
    "print(5 >= 5) # greater or equal\n",
    "print(5 < 5) # strictly lower\n",
    "print(5 <= 5) # lower or equal\n",
    "print(5 == 5) # equal\n",
    "print(5 != 5) # not equal"
   ]
  },
  {
   "cell_type": "markdown",
   "id": "77a9b533",
   "metadata": {},
   "source": [
    "### 3.2 Data structures"
   ]
  },
  {
   "cell_type": "code",
   "execution_count": null,
   "id": "53630a95",
   "metadata": {},
   "outputs": [],
   "source": [
    "list1 = [1, 2, 3, 4]; list2 = [5, 6, 7, 8] # list\n",
    "\n",
    "print(type(list1))\n",
    "print(list1)\n",
    "print(list1 + list2) # concatenate lists\n",
    "print(len(list1 + list2)) # size of a list"
   ]
  },
  {
   "cell_type": "code",
   "execution_count": null,
   "id": "db477bc7",
   "metadata": {},
   "outputs": [],
   "source": [
    "print(list1[0]) # first element\n",
    "print(list1[-2]) # second to last element"
   ]
  },
  {
   "cell_type": "code",
   "execution_count": null,
   "id": "12b83235",
   "metadata": {},
   "outputs": [],
   "source": [
    "# slicing with a:b includes all elements including a but excluding b\n",
    "print(list1[1:2])\n",
    "print(list1[:2])\n",
    "print(list1[2:])\n",
    "print(list1[2:-1])"
   ]
  },
  {
   "cell_type": "code",
   "execution_count": null,
   "id": "d3648f96",
   "metadata": {},
   "outputs": [],
   "source": [
    "# verify presence of an element in a list\n",
    "print(2 in list1)\n",
    "print(25 in list1)"
   ]
  },
  {
   "cell_type": "code",
   "execution_count": null,
   "id": "f6cfd00f",
   "metadata": {},
   "outputs": [],
   "source": [
    "# dictionary\n",
    "dict1 = {\n",
    "    \"a\" : 1,\n",
    "    \"b\" : 2,\n",
    "}\n",
    "\n",
    "print(type(dict1))"
   ]
  },
  {
   "cell_type": "code",
   "execution_count": null,
   "id": "c1c5c003",
   "metadata": {},
   "outputs": [],
   "source": [
    "dict1[\"a\"] = 4 # change the value associated with the key \"a\" to 4\n",
    "dict1[\"d\"] = 5 # change the value associated with the key \"d\" to 5\n",
    "print(dict1)"
   ]
  },
  {
   "cell_type": "code",
   "execution_count": null,
   "id": "0f71277c",
   "metadata": {},
   "outputs": [],
   "source": [
    "print(list(dict1.keys())) # all keys as a list\n",
    "print(list(dict1.values())) # all values as a list\n",
    "print(dict1.items()) # all pairs key-value "
   ]
  },
  {
   "cell_type": "markdown",
   "id": "3176f885",
   "metadata": {},
   "source": [
    "## 4. Loops and conditionals\n",
    "We show some basic loop and conditional statements in Python. For more information, see the [compound statements documentation](https://docs.python.org/3/reference/compound_stmts.html#)."
   ]
  },
  {
   "cell_type": "code",
   "execution_count": null,
   "id": "1841ae1b",
   "metadata": {},
   "outputs": [],
   "source": [
    "# if/elseif/else statement (test multiple conditions)\n",
    "criterion1 = True;\n",
    "criterion2 = False;\n",
    "if criterion1:\n",
    "    print(\"Criterion 1 is true.\\n\")\n",
    "elif criterion2:\n",
    "    print(\"Criterion 2 is true.\\n\")\n",
    "else:\n",
    "    (\"Criteria 1 and 2 are false.\\n\")"
   ]
  },
  {
   "cell_type": "code",
   "execution_count": null,
   "id": "e07c3a4e",
   "metadata": {},
   "outputs": [],
   "source": [
    "# for loop (stop after a number of iterations)\n",
    "for idx in range(5, 25, 5):\n",
    "    print(idx)"
   ]
  },
  {
   "cell_type": "code",
   "execution_count": null,
   "id": "203b77e1",
   "metadata": {},
   "outputs": [],
   "source": [
    "for key, val in dict1.items():\n",
    "    print(\"Key: \" + str(key) + \" Value: \" + str(val))"
   ]
  },
  {
   "cell_type": "code",
   "execution_count": null,
   "id": "66c33d8a",
   "metadata": {},
   "outputs": [],
   "source": [
    "for idx_value, value in enumerate(['My', 'name', 'is', 'Anthony', 'Coache']):\n",
    "    print(\"Value: \" + value + \" with index \" + str(idx_value))"
   ]
  },
  {
   "cell_type": "code",
   "execution_count": null,
   "id": "0b948707",
   "metadata": {},
   "outputs": [],
   "source": [
    "number_en = ['one', 'two', 'three', 'four']\n",
    "number_fr = ['un', 'deux', 'trois', 'quatre']\n",
    "number = [1, 2, 3, 4]\n",
    "\n",
    "for num_en, num_fr, num in zip(number_en, number_fr, number):\n",
    "    print(f\"{num}: '{num_en}' in English, '{num_fr}' in French\")"
   ]
  },
  {
   "cell_type": "code",
   "execution_count": null,
   "id": "97862914",
   "metadata": {},
   "outputs": [],
   "source": [
    "# while loop (stop after a certain condition)\n",
    "import numpy as np\n",
    "idx = 0\n",
    "while idx < 3:\n",
    "    idx = idx + np.random.rand()\n",
    "    print(\"The random number is now \" + str(np.round(idx,3)))"
   ]
  },
  {
   "cell_type": "markdown",
   "id": "ac4048e1",
   "metadata": {},
   "source": [
    "## 5. NumPy library\n",
    "\n",
    "NumPy is a fundamental package for scientific computing in Python. It provides\n",
    "- a multidimensional array object;\n",
    "- various derived objects, such as matrices;\n",
    "- an assortment of routines for fast operations on arrays;\n",
    "- basic statistical operations;\n",
    "- random simulation engines;\n",
    "- and much more.\n",
    "\n",
    "For more information on this library, see the [NumPy documentation](https://numpy.org/)."
   ]
  },
  {
   "cell_type": "code",
   "execution_count": null,
   "id": "a6e8a13e",
   "metadata": {},
   "outputs": [],
   "source": [
    "import numpy as np # we refer to numpy with the prefix \"np.\""
   ]
  },
  {
   "cell_type": "markdown",
   "id": "27076ce0",
   "metadata": {},
   "source": [
    "### 5.1 Array manipulation"
   ]
  },
  {
   "cell_type": "code",
   "execution_count": null,
   "id": "93bce924",
   "metadata": {},
   "outputs": [],
   "source": [
    "a1 = np.array([[1,2,3,4],[5,6,7,8],[9,10,11,12]]) # create an array manually\n",
    "print(type(a1), a1.shape)\n",
    "print(a1)"
   ]
  },
  {
   "cell_type": "code",
   "execution_count": null,
   "id": "0dcd5a6b",
   "metadata": {},
   "outputs": [],
   "source": [
    "a2 = np.ones((2,2,2,2)) # n-dimensional array of ones\n",
    "a3 = np.zeros((2,2,2,2)) # n-dimensional array of zeros\n",
    "print(a2.shape)\n",
    "print(a2)"
   ]
  },
  {
   "cell_type": "code",
   "execution_count": null,
   "id": "bafb96ec",
   "metadata": {},
   "outputs": [],
   "source": [
    "# slicing with a:b includes all elements including a but excluding b; similar to lists\n",
    "print(a1[0,:])\n",
    "print(a1[:,0])\n",
    "print(a1[:2,:])"
   ]
  },
  {
   "cell_type": "code",
   "execution_count": null,
   "id": "eca1b2e2",
   "metadata": {},
   "outputs": [],
   "source": [
    "# reshape an array (row by row) to a compatible size\n",
    "print(a1) # (3,4)\n",
    "print(a1.reshape(-1,1)) # (12,1)\n",
    "print(a1.reshape(1,-1)) # (1,12)\n",
    "print(a1.reshape(3,4)) # (3,4)\n",
    "print(a1.reshape(2,6)) # (2,6)"
   ]
  },
  {
   "cell_type": "code",
   "execution_count": null,
   "id": "f1bf0cd6",
   "metadata": {},
   "outputs": [],
   "source": [
    "b1 = np.array([[1, 2], [3, 4]])\n",
    "b2 = np.array([[5, 6], [7, 8]])\n",
    "\n",
    "b3 = np.concatenate((b1, b2), axis=0) # concatenate on an existing dimension\n",
    "print(b3) # (4,2)\n",
    "b3 = np.concatenate((b1, b2), axis=1)\n",
    "print(b3) # (2,4)"
   ]
  },
  {
   "cell_type": "code",
   "execution_count": null,
   "id": "f63bdd0a",
   "metadata": {},
   "outputs": [],
   "source": [
    "b3 = np.stack((b1, b2), axis=1) # stack based on a new dimension\n",
    "print(b3) # (2,2,2) -- b3[:,0,:] == b1, b3[:,1,:] == b2"
   ]
  },
  {
   "cell_type": "code",
   "execution_count": null,
   "id": "d4ac8cae",
   "metadata": {},
   "outputs": [],
   "source": [
    "print(a1) # all values of a1\n",
    "print(a1 > 5) # which values satisfy the condition\n",
    "print(a1[a1 > 5]) # all values satisfying the condition"
   ]
  },
  {
   "cell_type": "markdown",
   "id": "4cddb48a",
   "metadata": {},
   "source": [
    "### 5.2 NumPy operations"
   ]
  },
  {
   "cell_type": "code",
   "execution_count": null,
   "id": "9efdf566",
   "metadata": {},
   "outputs": [],
   "source": [
    "a1 = np.array([[1,2,3,4],[5,6,7,8],[9,10,11,12]])\n",
    "a2 = np.array([[-1,5,9,2],[1,3,7,4],[9,8,12,11]])\n",
    "\n",
    "print(a1 + a2) # element-wise addition\n",
    "print(a1 - a2) # element-wise subtraction\n",
    "print(a1 ** 2) # element-wise power\n",
    "print(a1 / a2) # element-wise division\n",
    "print(np.exp(a1)) # element-wise exponential\n",
    "print(np.log(a1)) # element-wise logarithm\n",
    "print(np.sqrt(a1)) # element-wise square root -- equivalent to a1 ** 0.5"
   ]
  },
  {
   "cell_type": "code",
   "execution_count": null,
   "id": "e4c8d839",
   "metadata": {},
   "outputs": [],
   "source": [
    "print(a1 * a2) # element-wise multiplication\n",
    "print(np.matmul(a1,a2.transpose())) # matrix multiplication"
   ]
  },
  {
   "cell_type": "markdown",
   "id": "06cabdfb",
   "metadata": {},
   "source": [
    "### 5.3 Random numbers\n",
    "\n",
    "For more information, see the [random sampling documentation from NumPy](https://numpy.org/doc/1.16/reference/routines.random.html)."
   ]
  },
  {
   "cell_type": "code",
   "execution_count": null,
   "id": "027f9d71",
   "metadata": {},
   "outputs": [],
   "source": [
    "import numpy.random as random\n",
    "\n",
    "random.seed(1234) # fix the random number generator, for testing purposes\n",
    "print(random.rand(2,4)) # (2,4) array of Uniform(0,1)\n",
    "print(random.normal(3, 0.5, size=(2,4))) # (2,4) array of Normal(3,0.5)"
   ]
  },
  {
   "cell_type": "markdown",
   "id": "e6f68463",
   "metadata": {},
   "source": [
    "## 6. pickle library\n",
    "\n",
    "The pickle module implements binary protocols for serializing and de-serializing a Python object structure. The user can then store them locally and load them in another session.\n",
    "\n",
    "For more information on this library, see the [pickle documentation](https://docs.python.org/3/library/pickle.html#module-pickle)."
   ]
  },
  {
   "cell_type": "code",
   "execution_count": null,
   "id": "c354a120",
   "metadata": {},
   "outputs": [],
   "source": [
    "import pickle\n",
    "\n",
    "a = {'hello': 'world'}\n",
    "filename = \"filename\"\n",
    "\n",
    "with open(filename + \".pickle\", 'wb') as handle: # writing mode\n",
    "    pickle.dump(a, handle, protocol=pickle.HIGHEST_PROTOCOL)"
   ]
  },
  {
   "cell_type": "code",
   "execution_count": null,
   "id": "4c1df9b6",
   "metadata": {},
   "outputs": [],
   "source": [
    "with open(filename + \".pickle\", 'rb') as handle: # reading mode\n",
    "    b = pickle.load(handle)\n",
    "    \n",
    "b"
   ]
  },
  {
   "cell_type": "markdown",
   "id": "c2c5bdf2",
   "metadata": {},
   "source": [
    "## 7. pandas library\n",
    "\n",
    "pandas is a fast, powerful, flexible and easy to use open source data analysis and manipulation tool. It provides\n",
    "- an efficient DataFrame object;\n",
    "- functions to read and write data;\n",
    "- optimized performance for reshaping, slicing, grouping, merging, etc.\n",
    "- and much more.\n",
    "\n",
    "For more information on this library, see the [pandas documentation](https://pandas.pydata.org/). We use random numbers to generate our dataframe, but we could instead read a .csv/.xlsx file, see <code> pandas.read_csv/pandas.read_excel(\"filename\", ...) </code>."
   ]
  },
  {
   "cell_type": "code",
   "execution_count": null,
   "id": "e396f9be",
   "metadata": {},
   "outputs": [],
   "source": [
    "import pandas as pd\n",
    "\n",
    "df1 = pd.DataFrame(np.random.randn(8, 4), columns=list('ABCD')) # create a dataframe\n",
    "df1.head() # print the first 5 lines"
   ]
  },
  {
   "cell_type": "code",
   "execution_count": null,
   "id": "6c085921",
   "metadata": {},
   "outputs": [],
   "source": [
    "df1.sort_index(axis=1, ascending=False).head() # sort column names by descending order"
   ]
  },
  {
   "cell_type": "code",
   "execution_count": null,
   "id": "37ca9618",
   "metadata": {},
   "outputs": [],
   "source": [
    "df1.sort_index(axis=0, ascending=False).head() # sort index names by descending order"
   ]
  },
  {
   "cell_type": "code",
   "execution_count": null,
   "id": "54d9ec12",
   "metadata": {},
   "outputs": [],
   "source": [
    "df1.sort_values(by='B').head() # sort by values of column \"B\""
   ]
  },
  {
   "cell_type": "code",
   "execution_count": null,
   "id": "32cbf547",
   "metadata": {},
   "outputs": [],
   "source": [
    "df1.loc[1:4, ['A','C']] # selection, similar to NumPy"
   ]
  },
  {
   "cell_type": "code",
   "execution_count": null,
   "id": "d9611520",
   "metadata": {},
   "outputs": [],
   "source": [
    "df1[df1['A'] > 0] # indexing with booleans, similar to NumPy"
   ]
  },
  {
   "cell_type": "code",
   "execution_count": null,
   "id": "9cdfd83d",
   "metadata": {},
   "outputs": [],
   "source": [
    "df1['E'] = ['one', 'two', 'three', 'four', 'five', 'six', 'seven', 'eight'] # add new columns\n",
    "df1.loc[9] = [1,2,1,2,'nine'] # add new observations\n",
    "df1"
   ]
  },
  {
   "cell_type": "code",
   "execution_count": null,
   "id": "951b2eee",
   "metadata": {},
   "outputs": [],
   "source": [
    "df2 = pd.DataFrame(np.random.randn(8,4), columns=list('ABCD')) # create another dataframe\n",
    "df3 = pd.concat([df1, df2]) # concatenate both dataframes (reset index names with ignore_index=True)\n",
    "df3"
   ]
  },
  {
   "cell_type": "code",
   "execution_count": null,
   "id": "a41e7926",
   "metadata": {},
   "outputs": [],
   "source": [
    "df3.loc[0] # selection by index"
   ]
  },
  {
   "cell_type": "code",
   "execution_count": null,
   "id": "bc25d597",
   "metadata": {},
   "outputs": [],
   "source": [
    "df3.iloc[0] # selection by rows"
   ]
  },
  {
   "cell_type": "code",
   "execution_count": null,
   "id": "b1f13b8a",
   "metadata": {},
   "outputs": [],
   "source": [
    "# import the file \"grades.xlsx\" (see https://pandas.pydata.org/docs/reference/api/pandas.read_excel.html?highlight=read_excel#pandas.read_excel)\n",
    "\n",
    "# compute the average of each course (see https://pandas.pydata.org/docs/reference/api/pandas.core.groupby.GroupBy.mean.html)\n"
   ]
  },
  {
   "cell_type": "markdown",
   "id": "5ee71a46",
   "metadata": {},
   "source": [
    "## 8. Matplotlib library\n",
    "There exists other options for producing plots, such as [seaborn](https://seaborn.pydata.org/) and [Plotly](https://plotly.com/python/). For more information on the Matplotlib library, see the [Matplotlib documentation](https://matplotlib.org/)."
   ]
  },
  {
   "cell_type": "code",
   "execution_count": null,
   "id": "9f45d0cc",
   "metadata": {},
   "outputs": [],
   "source": [
    "import matplotlib.pyplot as plt\n",
    "\n",
    "xs = np.linspace(0, 10, 20, endpoint = False)\n",
    "y1s = 2 * xs\n",
    "y2s = 3 * xs\n",
    "x_grid, y_grid = np.meshgrid(xs, xs)"
   ]
  },
  {
   "cell_type": "code",
   "execution_count": null,
   "id": "01652327",
   "metadata": {},
   "outputs": [],
   "source": [
    "# plot y1s vs xs AND y2s vs xs on the same plot"
   ]
  },
  {
   "cell_type": "code",
   "execution_count": null,
   "id": "73a2be59",
   "metadata": {
    "scrolled": true
   },
   "outputs": [],
   "source": [
    "# create subplots with for loops"
   ]
  },
  {
   "cell_type": "code",
   "execution_count": null,
   "id": "f820b599",
   "metadata": {},
   "outputs": [],
   "source": [
    "# histogram and contours on different plots"
   ]
  },
  {
   "cell_type": "markdown",
   "id": "f6204572",
   "metadata": {},
   "source": [
    "## 9. Create functions\n",
    "\n",
    "Suppose we want to simulate trajectories from a geometric Brownian motion (GBM) satisfying the SDE\n",
    "$$\n",
    "d S_t = \\mu S_t d t + \\sigma S_t d W_t,\n",
    "$$\n",
    "where $W_t$ is a Brownian motion. The solution is\n",
    "$$\n",
    "\\frac{S_t}{S_0} = \\exp\\Bigg\\{ \\bigg(\\mu - \\frac{\\sigma^2}{2} \\bigg) t + \\sigma W_t \\Bigg\\}.\n",
    "$$\n",
    "\n",
    "Assuming we discretize the process, we obtain\n",
    "$$\n",
    "\\frac{S_{t+\\Delta t}}{S_{t}} = \\exp\\Big\\{ \\bigg(\\mu - \\frac{\\sigma^2}{2} \\bigg) \\Delta t + \\sigma \\Delta t Z \\Big\\}, \\qquad Z \\sim N(0,1).\n",
    "$$"
   ]
  },
  {
   "cell_type": "code",
   "execution_count": null,
   "id": "4c1f0805",
   "metadata": {},
   "outputs": [],
   "source": [
    "# create a separate function called simulate_gbm in the file GBM.py\n",
    "\n",
    "from GBM import simulate_gbm"
   ]
  },
  {
   "cell_type": "code",
   "execution_count": null,
   "id": "62bafbcf",
   "metadata": {
    "scrolled": true
   },
   "outputs": [],
   "source": [
    "# initialize different parameters\n",
    "initial_price = 10\n",
    "mu = 0.1\n",
    "vol = 0.2\n",
    "terminal = 1\n",
    "Ndt = 2**10\n",
    "Nsims = 500\n",
    "\n",
    "# use the function with the right syntax\n",
    "t1, price1 = simulate_gbm(initial_price, mu, vol, terminal, Ndt, Nsims); # 500 sims\n",
    "t2, price2 = simulate_gbm(initial_price, mu, vol, terminal, Ndt); # 10 sims\n",
    "# t3, price3 = simulate_gbm(initial_price, mu, vol, terminal, Ndt, -50); # error\n",
    "\n",
    "# plot the GBM paths\n",
    "fig, axes = plt.subplots()\n",
    "\n",
    "plt.show()"
   ]
  },
  {
   "cell_type": "markdown",
   "id": "933a5362",
   "metadata": {},
   "source": [
    "## 10. SciPy library\n",
    "Several functions for scientific computing. For more information on this library, see the [SciPy documentation](https://scipy.org/)."
   ]
  },
  {
   "cell_type": "markdown",
   "id": "40e8a68c",
   "metadata": {},
   "source": [
    "One library of interest for optimization: scipy.optimize. Suppose you want to minimize the following function (i.e. 2D Rosenbreck function):\n",
    "$$\n",
    "f(x,y) = 100 (y - x^2)^2 + (1 - x)^2\n",
    "$$\n",
    "subject to:\n",
    "$$\n",
    "1 - x - y \\geq 0\\\\\n",
    "x, y \\geq 0\n",
    "$$"
   ]
  },
  {
   "cell_type": "code",
   "execution_count": null,
   "id": "b1832fb3",
   "metadata": {},
   "outputs": [],
   "source": [
    "from scipy.optimize import minimize # import the minimize module\n",
    "\n",
    "def rosen(x): # define the function\n",
    "    return sum(100.0*(x[1:]-x[:-1]**2.0)**2.0 + (1-x[:-1])**2.0)\n",
    "\n",
    "# define inequalities\n",
    "ineq_cons = {'type': 'ineq',\n",
    "             'fun' : lambda x: np.array([x[0],\n",
    "                                         x[1],\n",
    "                                         1 - x[0] - x[1]]),}\n",
    "\n",
    "res = minimize(rosen, # function to minimize\n",
    "               np.array([0.5, 0]), # starting values\n",
    "               method='SLSQP', # optimization method\n",
    "               constraints=[ineq_cons], # constraints\n",
    "               options={'ftol': 1e-9, 'disp': True})\n",
    "print(res.x)"
   ]
  },
  {
   "cell_type": "code",
   "execution_count": null,
   "id": "bf62ce20",
   "metadata": {},
   "outputs": [],
   "source": [
    "def rosen2D(X, Y):\n",
    "    vals = []\n",
    "    for i in range(len(X)):\n",
    "        vals.append(rosen(np.array([X[i], Y[i]])))\n",
    "    return np.array(vals)"
   ]
  },
  {
   "cell_type": "code",
   "execution_count": null,
   "id": "118163d7",
   "metadata": {},
   "outputs": [],
   "source": [
    "x = np.linspace(0, 1, 50)\n",
    "y = np.linspace(0, 1, 50)\n",
    "X, Y = np.meshgrid(x, y)\n",
    "Z = rosen2D(X, Y)\n",
    "\n",
    "fig, axes = plt.subplots()\n",
    "temp = axes.contourf(X, Y, Z, cmap='RdGy', levels=30)\n",
    "plt.colorbar(temp)\n",
    "axes.scatter(res.x[0], res.x[1], marker='*', color='gold', s=100)"
   ]
  },
  {
   "cell_type": "markdown",
   "id": "906d7c24",
   "metadata": {},
   "source": [
    "## 11. Custom classes\n",
    "\n",
    "It allows you to create a blueprint for any object with its own properties and variables."
   ]
  },
  {
   "cell_type": "code",
   "execution_count": null,
   "id": "5af6de71",
   "metadata": {},
   "outputs": [],
   "source": [
    "# create two separate classes called Company and Employee in the file classes.py\n",
    "\n",
    "from classes import Company, Employee"
   ]
  },
  {
   "cell_type": "code",
   "execution_count": null,
   "id": "3cc61d88",
   "metadata": {},
   "outputs": [],
   "source": [
    "company1 = Company(\"Deloitte\", 1845)\n",
    "company2 = Company(\"Manulife\", 1887)\n",
    "\n",
    "worker1 = Employee(\"Anthony Coache\", \"2019-01-01\", 75000)\n",
    "worker2 = Employee(\"Jane Doe\", \"2000-07-01\", 90000)\n",
    "worker3 = Employee(\"SpongeBob SquarePants\", \"1999-05-01\", 100000)"
   ]
  },
  {
   "cell_type": "code",
   "execution_count": null,
   "id": "6da5a818",
   "metadata": {},
   "outputs": [],
   "source": [
    "company1.add_employee(worker1)\n",
    "company1.add_employee(worker2)\n",
    "company2.add_employee(worker3)\n",
    "\n",
    "company1.show_employees()\n",
    "company2.show_employees()"
   ]
  },
  {
   "cell_type": "markdown",
   "id": "63a33836",
   "metadata": {},
   "source": [
    "## 12. Debugging\n",
    "\n",
    "The Python debugger allows you to put breakpoints in your code (e.g. functions, longer scripts), and inspect variables in an interactive way. Here are some shortcuts with the pdb library:\n",
    "\n",
    "- <code> continue </code> or <code> c </code>: continue execution\n",
    "- <code> where </code> or <code> w </code>: shows the context of the current line it is executing.\n",
    "- <code> args </code> or <code> a </code>: print the argument list of the current function\n",
    "- <code> step </code> or <code> s </code>: execute the current line and stop at the first possible occasion.\n",
    "- <code> next </code> or <code> n </code>: continue execution until the next line in the current function is reached or it returns.\n",
    "\n",
    "For more information, see the [pdb documentation](https://docs.python.org/3/library/pdb.html)."
   ]
  },
  {
   "cell_type": "code",
   "execution_count": null,
   "id": "bd357071",
   "metadata": {},
   "outputs": [],
   "source": [
    "import pdb\n",
    "\n",
    "def func(a, b):\n",
    "    counter = 0\n",
    "    pdb.set_trace() # breakpoint\n",
    "    for i in range(b):\n",
    "        counter += a\n",
    "    return counter"
   ]
  }
 ],
 "metadata": {
  "kernelspec": {
   "display_name": "Python 3 (ipykernel)",
   "language": "python",
   "name": "python3"
  },
  "language_info": {
   "codemirror_mode": {
    "name": "ipython",
    "version": 3
   },
   "file_extension": ".py",
   "mimetype": "text/x-python",
   "name": "python",
   "nbconvert_exporter": "python",
   "pygments_lexer": "ipython3",
   "version": "3.9.7"
  }
 },
 "nbformat": 4,
 "nbformat_minor": 5
}
