{
 "cells": [
  {
   "cell_type": "markdown",
   "id": "c0fa30fe",
   "metadata": {},
   "source": [
    "# Python Bootcamp 2022\n",
    "\n",
    "This is the main notebook with code for the [Python bootcamp](https://github.com/acoache/python-bootcamp-MFI). We are using a Jupyter notebook to more easily illustrate the code with texts and visualizations."
   ]
  },
  {
   "cell_type": "markdown",
   "id": "02046d43",
   "metadata": {},
   "source": [
    "## 1. Install Python\n",
    "\n",
    "##### Windows\n",
    "- Use [Anaconda: https://www.anaconda.com/products/distribution](https://www.anaconda.com/products/distribution)\n",
    "- Install packages, IDE, etc. using Anaconda\n",
    "\n",
    "##### MacOS\n",
    "- Use Anaconda, or use Homebrew via the command line:\n",
    "/bin/bash -c \"$(curl -fsSL https://raw.githubusercontent.com/Homebrew/install/master/install.sh)\"\n",
    "- If you use Homebrew, download pip with the following: brew install python\n",
    "- Then use pip/pip3 to download packages and libraries\n",
    "- For more information, see the [Python documentation: https://docs.python-guide.org/starting/install3/osx/](https://docs.python-guide.org/starting/install3/osx/)\n",
    "\n",
    "##### Linux\n",
    "- If you use linux, you probably already have everything set up.\n",
    "\n",
    "##### Editors\n",
    "- Any text editors for code, e.g. [Sublime Text](https://www.sublimetext.com/), [Atom](https://atom.io/), [Notepad++](https://notepad-plus-plus.org/), etc., or IDEs for Python, e.g. [Spyder](https://www.spyder-ide.org/), [Jupyter](https://jupyter.org/), etc."
   ]
  },
  {
   "cell_type": "markdown",
   "id": "2fd4dd48",
   "metadata": {},
   "source": [
    "## 2. Set up directories\n",
    "\n",
    "The default directory is the first folder Jupyter loads into when it starts up. We can view the full path by loading the operating system package."
   ]
  },
  {
   "cell_type": "code",
   "execution_count": 1,
   "id": "fa6575e2",
   "metadata": {},
   "outputs": [
    {
     "name": "stdout",
     "output_type": "stream",
     "text": [
      "C:\\Users\\antho\\Documents\\GitHub\\python-bootcamp-MFI\n",
      "['.git', '.ipynb_checkpoints', 'bootcamp_notebook.ipynb', 'classes.py', 'filename.pickle', 'GBM1.py', 'grades.xlsx', 'README.md', 'tutorial_notebook.ipynb', 'utils.py']\n"
     ]
    }
   ],
   "source": [
    "import os\n",
    "print(os.path.abspath(os.curdir)) # print the current directory\n",
    "print(os.listdir()) # print all files and folders in the current directory"
   ]
  },
  {
   "cell_type": "markdown",
   "id": "c5798abc",
   "metadata": {},
   "source": [
    "We can import (pre-installed) Python libraries, or import our own Python files and functions."
   ]
  },
  {
   "cell_type": "code",
   "execution_count": 2,
   "id": "03ae7896",
   "metadata": {},
   "outputs": [
    {
     "name": "stdout",
     "output_type": "stream",
     "text": [
      "8\n"
     ]
    }
   ],
   "source": [
    "from utils import func1  # import the function func1 from our helpers file\n",
    "print(func1(5))\n",
    "# print(func2(5)) # error, we do not import func2"
   ]
  },
  {
   "cell_type": "code",
   "execution_count": 3,
   "id": "17792574",
   "metadata": {},
   "outputs": [
    {
     "name": "stdout",
     "output_type": "stream",
     "text": [
      "8\n",
      "64\n"
     ]
    }
   ],
   "source": [
    "from utils import *  # import all functions from our helpers file\n",
    "print(func1(5))\n",
    "print(func2(5))"
   ]
  },
  {
   "cell_type": "code",
   "execution_count": 4,
   "id": "bcac4df3",
   "metadata": {},
   "outputs": [
    {
     "name": "stdout",
     "output_type": "stream",
     "text": [
      "8\n",
      "64\n"
     ]
    }
   ],
   "source": [
    "import utils # import our helpers file as a package\n",
    "print(utils.func1(5))\n",
    "print(utils.func2(5))"
   ]
  },
  {
   "cell_type": "markdown",
   "id": "5911277d",
   "metadata": {},
   "source": [
    "## 3 Basic data types\n",
    "Here is an overview of the most used data types in Python, both for elements and sequences. For more information, see [built-in types documentation](https://docs.python.org/3/library/stdtypes.html)."
   ]
  },
  {
   "cell_type": "markdown",
   "id": "11f4f3db",
   "metadata": {},
   "source": [
    "### 3.1 Built-in types"
   ]
  },
  {
   "cell_type": "code",
   "execution_count": 5,
   "id": "0469dc9c",
   "metadata": {},
   "outputs": [
    {
     "name": "stdout",
     "output_type": "stream",
     "text": [
      "<class 'int'> <class 'float'> <class 'float'> <class 'str'> <class 'complex'>\n"
     ]
    }
   ],
   "source": [
    "a = 5 # int\n",
    "b = 5.0 # float\n",
    "c = 3e-7 # float (scientific notation)\n",
    "d = \"5.0\" # string\n",
    "e = 1 + 1j * 5 # complex number\n",
    "\n",
    "print(type(a), type(b), type(c), type(d), type(e))"
   ]
  },
  {
   "cell_type": "code",
   "execution_count": 6,
   "id": "cafec789",
   "metadata": {},
   "outputs": [
    {
     "name": "stdout",
     "output_type": "stream",
     "text": [
      "<class 'int'>\n",
      "<class 'float'>\n",
      "<class 'float'>\n",
      "<class 'str'>\n"
     ]
    }
   ],
   "source": [
    "# operations with ints produce ints, otherwise result is float\n",
    "print(type(a + a))\n",
    "print(type(a + b))\n",
    "print(type(a * b))\n",
    "print(type(d + d))"
   ]
  },
  {
   "cell_type": "code",
   "execution_count": 7,
   "id": "3e6f79ab",
   "metadata": {},
   "outputs": [
    {
     "name": "stdout",
     "output_type": "stream",
     "text": [
      "2.5\n",
      "2\n",
      "1\n",
      "25\n"
     ]
    }
   ],
   "source": [
    "f = 2\n",
    "print(a / f) # division\n",
    "print(a // f) # floor division\n",
    "print(a % f) # modulo\n",
    "print(a ** f) # power "
   ]
  },
  {
   "cell_type": "code",
   "execution_count": 8,
   "id": "484c50cc",
   "metadata": {},
   "outputs": [
    {
     "name": "stdout",
     "output_type": "stream",
     "text": [
      "True\n",
      "False\n"
     ]
    }
   ],
   "source": [
    "# verify data types of variables\n",
    "print(isinstance(a, int))\n",
    "print(isinstance(a, float))"
   ]
  },
  {
   "cell_type": "code",
   "execution_count": 9,
   "id": "f78e259d",
   "metadata": {},
   "outputs": [
    {
     "name": "stdout",
     "output_type": "stream",
     "text": [
      "<class 'bool'>\n",
      "False\n",
      "True\n",
      "False\n"
     ]
    }
   ],
   "source": [
    "bool1 = True; bool2 = False # boolean\n",
    "print(type(bool1))\n",
    "print(bool1 and bool2) # both values are True\n",
    "print(bool1 or bool2) # one of the values is True\n",
    "print(not bool1) # opposite of value"
   ]
  },
  {
   "cell_type": "code",
   "execution_count": 10,
   "id": "f93ab4fd",
   "metadata": {},
   "outputs": [
    {
     "name": "stdout",
     "output_type": "stream",
     "text": [
      "False\n",
      "True\n",
      "False\n",
      "True\n",
      "True\n",
      "False\n"
     ]
    }
   ],
   "source": [
    "print(5 > 5) # strictly greater\n",
    "print(5 >= 5) # greater or equal\n",
    "print(5 < 5) # strictly lower\n",
    "print(5 <= 5) # lower or equal\n",
    "print(5 == 5) # equal\n",
    "print(5 != 5) # not equal"
   ]
  },
  {
   "cell_type": "markdown",
   "id": "77a9b533",
   "metadata": {},
   "source": [
    "### 3.2 Data structures"
   ]
  },
  {
   "cell_type": "code",
   "execution_count": 11,
   "id": "53630a95",
   "metadata": {},
   "outputs": [
    {
     "name": "stdout",
     "output_type": "stream",
     "text": [
      "<class 'list'>\n",
      "[1, 2, 3, 4]\n",
      "[1, 2, 3, 4, 5, 6, 7, 8]\n",
      "8\n"
     ]
    }
   ],
   "source": [
    "list1 = [1, 2, 3, 4]; list2 = [5, 6, 7, 8] # list\n",
    "print(type(list1))\n",
    "print(list1)\n",
    "print(list1 + list2) # concatenate lists\n",
    "print(len(list1 + list2)) # size of a list"
   ]
  },
  {
   "cell_type": "code",
   "execution_count": 12,
   "id": "db477bc7",
   "metadata": {},
   "outputs": [
    {
     "name": "stdout",
     "output_type": "stream",
     "text": [
      "1\n",
      "3\n"
     ]
    }
   ],
   "source": [
    "print(list1[0]) # first element\n",
    "print(list1[-2]) # second to last element"
   ]
  },
  {
   "cell_type": "code",
   "execution_count": 13,
   "id": "12b83235",
   "metadata": {},
   "outputs": [
    {
     "name": "stdout",
     "output_type": "stream",
     "text": [
      "[2]\n",
      "[1, 2]\n",
      "[3, 4]\n",
      "[3]\n"
     ]
    }
   ],
   "source": [
    "# slicing with a:b includes all elements including a but excluding b\n",
    "print(list1[1:2])\n",
    "print(list1[:2])\n",
    "print(list1[2:])\n",
    "print(list1[2:-1])"
   ]
  },
  {
   "cell_type": "code",
   "execution_count": 14,
   "id": "d3648f96",
   "metadata": {},
   "outputs": [
    {
     "name": "stdout",
     "output_type": "stream",
     "text": [
      "True\n",
      "False\n"
     ]
    }
   ],
   "source": [
    "# verify presence of an element in a list\n",
    "print(2 in list1)\n",
    "print(25 in list1)"
   ]
  },
  {
   "cell_type": "code",
   "execution_count": 15,
   "id": "f6cfd00f",
   "metadata": {},
   "outputs": [
    {
     "name": "stdout",
     "output_type": "stream",
     "text": [
      "<class 'dict'>\n"
     ]
    }
   ],
   "source": [
    "# dictionary\n",
    "dict1 = {\n",
    "    \"a\" : 1,\n",
    "    \"b\" : 2,\n",
    "    \"c\" : 3,\n",
    "}\n",
    "print(type(dict1))"
   ]
  },
  {
   "cell_type": "code",
   "execution_count": 16,
   "id": "c1c5c003",
   "metadata": {},
   "outputs": [
    {
     "name": "stdout",
     "output_type": "stream",
     "text": [
      "{'a': 4, 'b': 2, 'c': 3, 'd': 5}\n"
     ]
    }
   ],
   "source": [
    "dict1[\"a\"] = 4 # change the value associated with the key \"a\" to 4\n",
    "dict1[\"d\"] = 5 # change the value associated with the key \"d\" to 5\n",
    "print(dict1)"
   ]
  },
  {
   "cell_type": "code",
   "execution_count": 17,
   "id": "0f71277c",
   "metadata": {},
   "outputs": [
    {
     "name": "stdout",
     "output_type": "stream",
     "text": [
      "['a', 'b', 'c', 'd']\n",
      "[4, 2, 3, 5]\n",
      "dict_items([('a', 4), ('b', 2), ('c', 3), ('d', 5)])\n"
     ]
    }
   ],
   "source": [
    "print(list(dict1.keys())) # all keys as a list\n",
    "print(list(dict1.values())) # all values as a list\n",
    "print(dict1.items()) # all pairs key-value "
   ]
  },
  {
   "cell_type": "markdown",
   "id": "3176f885",
   "metadata": {},
   "source": [
    "## 4. Loops and conditionals\n",
    "We show some basic loop and conditional statements in Python. For more information, see the [compound statements documentation](https://docs.python.org/3/reference/compound_stmts.html#)."
   ]
  },
  {
   "cell_type": "code",
   "execution_count": 18,
   "id": "1841ae1b",
   "metadata": {},
   "outputs": [
    {
     "name": "stdout",
     "output_type": "stream",
     "text": [
      "Criterion 1 is true.\n",
      "\n"
     ]
    }
   ],
   "source": [
    "# if/elseif/else statement (test multiple conditions)\n",
    "criterion1 = True;\n",
    "criterion2 = False;\n",
    "if criterion1:\n",
    "    print(\"Criterion 1 is true.\\n\")\n",
    "elif criterion2:\n",
    "    print(\"Criterion 2 is true.\\n\")\n",
    "else:\n",
    "    (\"Criteria 1 and 2 are false.\\n\")"
   ]
  },
  {
   "cell_type": "code",
   "execution_count": 19,
   "id": "3bf67265",
   "metadata": {},
   "outputs": [
    {
     "name": "stdout",
     "output_type": "stream",
     "text": [
      "Criterion 1 is true.\n",
      "\n",
      "Criterion 2 is true.\n",
      "\n"
     ]
    }
   ],
   "source": [
    "criterion1 = True;\n",
    "criterion2 = True;\n",
    "\n",
    "if criterion1:\n",
    "    print(\"Criterion 1 is true.\\n\")\n",
    "if criterion2:\n",
    "    print(\"Criterion 2 is true.\\n\")"
   ]
  },
  {
   "cell_type": "code",
   "execution_count": 20,
   "id": "e07c3a4e",
   "metadata": {},
   "outputs": [
    {
     "name": "stdout",
     "output_type": "stream",
     "text": [
      "5\n",
      "10\n",
      "15\n",
      "20\n"
     ]
    }
   ],
   "source": [
    "# for loop (stop after a number of iterations)\n",
    "for idx in range(5, 25, 5):\n",
    "    print(idx)"
   ]
  },
  {
   "cell_type": "code",
   "execution_count": 21,
   "id": "544bb93a",
   "metadata": {},
   "outputs": [
    {
     "name": "stdout",
     "output_type": "stream",
     "text": [
      "Key: a Value: 4\n",
      "Key: b Value: 2\n",
      "Key: c Value: 3\n",
      "Key: d Value: 5\n"
     ]
    }
   ],
   "source": [
    "for key, val in dict1.items():\n",
    "    print(\"Key: \" + str(key) + \" Value: \" + str(val))"
   ]
  },
  {
   "cell_type": "code",
   "execution_count": 22,
   "id": "177a5be1",
   "metadata": {},
   "outputs": [
    {
     "name": "stdout",
     "output_type": "stream",
     "text": [
      "Value: My with index 0\n",
      "Value: name with index 1\n",
      "Value: is with index 2\n",
      "Value: Anthony with index 3\n",
      "Value: Coache with index 4\n"
     ]
    }
   ],
   "source": [
    "for idx_value, value in enumerate(['My', 'name', 'is', 'Anthony', 'Coache']):\n",
    "    print(\"Value: \" + value + \" with index \" + str(idx_value))"
   ]
  },
  {
   "cell_type": "code",
   "execution_count": 23,
   "id": "503ae966",
   "metadata": {},
   "outputs": [
    {
     "name": "stdout",
     "output_type": "stream",
     "text": [
      "1: one in English, un in French\n",
      "2: two in English, deux in French\n",
      "3: three in English, trois in French\n",
      "4: four in English, quatre in French\n"
     ]
    }
   ],
   "source": [
    "number_en = ['one', 'two', 'three', 'four']\n",
    "number_fr = ['un', 'deux', 'trois', 'quatre']\n",
    "number = [1, 2, 3, 4]\n",
    "\n",
    "for num_en, num_fr, num in zip(number_en, number_fr, number):\n",
    "    print(str(num) + ': ' + num_en + ' in English, ' + num_fr + ' in French')"
   ]
  },
  {
   "cell_type": "code",
   "execution_count": 24,
   "id": "97862914",
   "metadata": {},
   "outputs": [
    {
     "name": "stdout",
     "output_type": "stream",
     "text": [
      "The random number is now 0.584\n",
      "The random number is now 0.668\n",
      "The random number is now 0.906\n",
      "The random number is now 1.62\n",
      "The random number is now 2.422\n",
      "The random number is now 2.807\n",
      "The random number is now 2.841\n",
      "The random number is now 3.69\n"
     ]
    }
   ],
   "source": [
    "# while loop (stop after a certain condition)\n",
    "import numpy as np\n",
    "idx = 0\n",
    "while idx < 3:\n",
    "    idx = idx + np.random.rand()\n",
    "    print(\"The random number is now \" + str(np.round(idx,3)))"
   ]
  },
  {
   "cell_type": "markdown",
   "id": "ac4048e1",
   "metadata": {},
   "source": [
    "## 5. NumPy library\n",
    "\n",
    "NumPy is a fundamental package for scientific computing in Python. It provides\n",
    "- a multidimensional array object;\n",
    "- various derived objects, such as matrices;\n",
    "- an assortment of routines for fast operations on arrays;\n",
    "- basic statistical operations;\n",
    "- random simulation engines;\n",
    "- and much more.\n",
    "\n",
    "For more information on this library, see the [NumPy documentation](https://numpy.org/)."
   ]
  },
  {
   "cell_type": "code",
   "execution_count": 25,
   "id": "a6e8a13e",
   "metadata": {},
   "outputs": [],
   "source": [
    "import numpy as np # we refer to numpy with the prefix \"np.\""
   ]
  },
  {
   "cell_type": "markdown",
   "id": "27076ce0",
   "metadata": {},
   "source": [
    "### 5.1 Array manipulation"
   ]
  },
  {
   "cell_type": "code",
   "execution_count": 26,
   "id": "93bce924",
   "metadata": {},
   "outputs": [
    {
     "name": "stdout",
     "output_type": "stream",
     "text": [
      "<class 'numpy.ndarray'> (3, 4)\n",
      "[[ 1  2  3  4]\n",
      " [ 5  6  7  8]\n",
      " [ 9 10 11 12]]\n"
     ]
    }
   ],
   "source": [
    "a1 = np.array([[1,2,3,4],[5,6,7,8],[9,10,11,12]]) # create an array manually\n",
    "print(type(a1), a1.shape)\n",
    "print(a1)"
   ]
  },
  {
   "cell_type": "code",
   "execution_count": 27,
   "id": "0dcd5a6b",
   "metadata": {},
   "outputs": [
    {
     "name": "stdout",
     "output_type": "stream",
     "text": [
      "(2, 2, 2, 2)\n",
      "[[[[1. 1.]\n",
      "   [1. 1.]]\n",
      "\n",
      "  [[1. 1.]\n",
      "   [1. 1.]]]\n",
      "\n",
      "\n",
      " [[[1. 1.]\n",
      "   [1. 1.]]\n",
      "\n",
      "  [[1. 1.]\n",
      "   [1. 1.]]]]\n"
     ]
    }
   ],
   "source": [
    "a2 = np.ones((2,2,2,2)) # n-dimensional array of ones\n",
    "a3 = np.zeros((2,2,2,2)) # n-dimensional array of zeros\n",
    "print(a2.shape)\n",
    "print(a2)"
   ]
  },
  {
   "cell_type": "code",
   "execution_count": 28,
   "id": "bafb96ec",
   "metadata": {},
   "outputs": [
    {
     "name": "stdout",
     "output_type": "stream",
     "text": [
      "[1 2 3 4]\n",
      "[1 5 9]\n",
      "[[1 2 3 4]\n",
      " [5 6 7 8]]\n"
     ]
    }
   ],
   "source": [
    "# slicing with a:b includes all elements including a but excluding b; similar to lists\n",
    "print(a1[0,:])\n",
    "print(a1[:, 0])\n",
    "print(a1[:2,:])"
   ]
  },
  {
   "cell_type": "code",
   "execution_count": 29,
   "id": "eca1b2e2",
   "metadata": {},
   "outputs": [
    {
     "name": "stdout",
     "output_type": "stream",
     "text": [
      "[[ 1  2  3  4]\n",
      " [ 5  6  7  8]\n",
      " [ 9 10 11 12]]\n",
      "[[ 1]\n",
      " [ 2]\n",
      " [ 3]\n",
      " [ 4]\n",
      " [ 5]\n",
      " [ 6]\n",
      " [ 7]\n",
      " [ 8]\n",
      " [ 9]\n",
      " [10]\n",
      " [11]\n",
      " [12]]\n",
      "[[ 1  2  3  4  5  6  7  8  9 10 11 12]]\n",
      "[[ 1  2  3  4]\n",
      " [ 5  6  7  8]\n",
      " [ 9 10 11 12]]\n",
      "[[ 1  2  3  4  5  6]\n",
      " [ 7  8  9 10 11 12]]\n"
     ]
    }
   ],
   "source": [
    "# reshape an array (row by row) to a compatible size\n",
    "print(a1) # (3,4)\n",
    "print(a1.reshape(-1,1)) # (12,1)\n",
    "print(a1.reshape(1,-1)) # (1,12)\n",
    "print(a1.reshape(3,4)) # (3,4)\n",
    "print(a1.reshape(2,6)) # (2,6)"
   ]
  },
  {
   "cell_type": "code",
   "execution_count": 30,
   "id": "f1bf0cd6",
   "metadata": {},
   "outputs": [
    {
     "name": "stdout",
     "output_type": "stream",
     "text": [
      "[[1 2]\n",
      " [3 4]\n",
      " [5 6]\n",
      " [7 8]]\n",
      "[[1 2 5 6]\n",
      " [3 4 7 8]]\n",
      "[[[1 2]\n",
      "  [5 6]]\n",
      "\n",
      " [[3 4]\n",
      "  [7 8]]]\n"
     ]
    }
   ],
   "source": [
    "b1 = np.array([[1, 2], [3, 4]])\n",
    "b2 = np.array([[5, 6], [7, 8]])\n",
    "\n",
    "b3 = np.concatenate((b1, b2), axis=0) # concatenate on an existing dimension\n",
    "print(b3) # (4,2)\n",
    "b3 = np.concatenate((b1, b2), axis=1)\n",
    "print(b3) # (2,4)\n",
    "\n",
    "b3 = np.stack((b1, b2), axis=1) # stack based on a new dimension\n",
    "print(b3) # (2,2,2) -- b3[:,0,:] == b1, b3[:,1,:] == b2"
   ]
  },
  {
   "cell_type": "code",
   "execution_count": 31,
   "id": "d4ac8cae",
   "metadata": {},
   "outputs": [
    {
     "name": "stdout",
     "output_type": "stream",
     "text": [
      "[[ 1  2  3  4]\n",
      " [ 5  6  7  8]\n",
      " [ 9 10 11 12]]\n",
      "[[False False False False]\n",
      " [False  True  True  True]\n",
      " [ True  True  True  True]]\n",
      "[ 6  7  8  9 10 11 12]\n"
     ]
    }
   ],
   "source": [
    "print(a1) # all values of a1\n",
    "print(a1 > 5) # which values satisfy the condition\n",
    "print(a1[a1 > 5]) # all values satisfying the condition"
   ]
  },
  {
   "cell_type": "code",
   "execution_count": 32,
   "id": "bd347504",
   "metadata": {},
   "outputs": [
    {
     "data": {
      "text/plain": [
       "(array([1, 1, 1, 2, 2, 2, 2], dtype=int64),\n",
       " array([1, 2, 3, 0, 1, 2, 3], dtype=int64))"
      ]
     },
     "execution_count": 32,
     "metadata": {},
     "output_type": "execute_result"
    }
   ],
   "source": [
    "np.where(a1 > 5) # index where values satisfy the condition"
   ]
  },
  {
   "cell_type": "markdown",
   "id": "4cddb48a",
   "metadata": {},
   "source": [
    "### 5.2 NumPy operations"
   ]
  },
  {
   "cell_type": "code",
   "execution_count": 33,
   "id": "9efdf566",
   "metadata": {},
   "outputs": [
    {
     "name": "stdout",
     "output_type": "stream",
     "text": [
      "[[ 0  7 12  6]\n",
      " [ 6  9 14 12]\n",
      " [18 18 23 23]]\n",
      "[[ 2 -3 -6  2]\n",
      " [ 4  3  0  4]\n",
      " [ 0  2 -1  1]]\n",
      "[[  1   4   9  16]\n",
      " [ 25  36  49  64]\n",
      " [ 81 100 121 144]]\n",
      "[[-1.          0.4         0.33333333  2.        ]\n",
      " [ 5.          2.          1.          2.        ]\n",
      " [ 1.          1.25        0.91666667  1.09090909]]\n",
      "[[ -1  10  27   8]\n",
      " [  5  18  49  32]\n",
      " [ 81  80 132 132]]\n",
      "[[ 44  44 105]\n",
      " [104 104 265]\n",
      " [164 164 425]]\n",
      "[[2.71828183e+00 7.38905610e+00 2.00855369e+01 5.45981500e+01]\n",
      " [1.48413159e+02 4.03428793e+02 1.09663316e+03 2.98095799e+03]\n",
      " [8.10308393e+03 2.20264658e+04 5.98741417e+04 1.62754791e+05]]\n",
      "[[0.         0.69314718 1.09861229 1.38629436]\n",
      " [1.60943791 1.79175947 1.94591015 2.07944154]\n",
      " [2.19722458 2.30258509 2.39789527 2.48490665]]\n",
      "[[1.         1.41421356 1.73205081 2.        ]\n",
      " [2.23606798 2.44948974 2.64575131 2.82842712]\n",
      " [3.         3.16227766 3.31662479 3.46410162]]\n"
     ]
    }
   ],
   "source": [
    "a1 = np.array([[1,2,3,4],[5,6,7,8],[9,10,11,12]])\n",
    "a2 = np.array([[-1,5,9,2],[1,3,7,4],[9,8,12,11]])\n",
    "print(a1 + a2) # element-wise addition\n",
    "print(a1 - a2) # element-wise subtraction\n",
    "print(a1 ** 2) # element-wise power\n",
    "print(a1 / a2) # element-wise division\n",
    "print(a1 * a2) # element-wise multiplication\n",
    "print(np.matmul(a1,a2.transpose())) # matrix multiplication\n",
    "print(np.exp(a1)) # element-wise exponential\n",
    "print(np.log(a1)) # element-wise logarithm\n",
    "print(np.sqrt(a1)) # element-wise square root -- equivalent to a1 ** 0.5"
   ]
  },
  {
   "cell_type": "markdown",
   "id": "06cabdfb",
   "metadata": {},
   "source": [
    "### 5.3 Random numbers"
   ]
  },
  {
   "cell_type": "code",
   "execution_count": 34,
   "id": "027f9d71",
   "metadata": {},
   "outputs": [
    {
     "name": "stdout",
     "output_type": "stream",
     "text": [
      "[[0.19151945 0.62210877 0.43772774 0.78535858]\n",
      " [0.77997581 0.27259261 0.27646426 0.80187218]]\n",
      "[[3.00784819 1.87865752 3.57501786 3.49597301]\n",
      " [3.47666206 1.98937259 2.83296132 3.00105918]]\n"
     ]
    }
   ],
   "source": [
    "import numpy.random as random\n",
    "\n",
    "random.seed(1234) # fix the random number generator, for testing purposes\n",
    "print(random.rand(2,4)) # (2,4) array of Uniform(0,1)\n",
    "print(random.normal(3, 0.5, (2,4))) # (2,4) array of Normal(3,0.5)"
   ]
  },
  {
   "cell_type": "markdown",
   "id": "e6f68463",
   "metadata": {},
   "source": [
    "## 6. pickle library\n",
    "\n",
    "The pickle module implements binary protocols for serializing and de-serializing a Python object structure. The user can then store them locally and load them in another session.\n",
    "\n",
    "For more information on this library, see the [pickle documentation](https://docs.python.org/3/library/pickle.html#module-pickle)."
   ]
  },
  {
   "cell_type": "code",
   "execution_count": 35,
   "id": "c354a120",
   "metadata": {},
   "outputs": [],
   "source": [
    "import pickle\n",
    "\n",
    "a = {'hello': 'world'}\n",
    "filename = \"filename\"\n",
    "\n",
    "with open(filename + \".pickle\", 'wb') as handle: # writing mode\n",
    "    pickle.dump(a, handle, protocol=pickle.HIGHEST_PROTOCOL)"
   ]
  },
  {
   "cell_type": "code",
   "execution_count": 36,
   "id": "4c1df9b6",
   "metadata": {},
   "outputs": [
    {
     "data": {
      "text/plain": [
       "{'hello': 'world'}"
      ]
     },
     "execution_count": 36,
     "metadata": {},
     "output_type": "execute_result"
    }
   ],
   "source": [
    "with open(filename + \".pickle\", 'rb') as handle: # reading mode\n",
    "    b = pickle.load(handle)\n",
    "    \n",
    "b"
   ]
  },
  {
   "cell_type": "markdown",
   "id": "c2c5bdf2",
   "metadata": {},
   "source": [
    "## 7. pandas library\n",
    "\n",
    "pandas is a fast, powerful, flexible and easy to use open source data analysis and manipulation tool. It provides\n",
    "- an efficient DataFrame object;\n",
    "- functions to read and write data;\n",
    "- optimized performance for reshaping, slicing, grouping, merging, etc.\n",
    "- and much more.\n",
    "\n",
    "For more information on this library, see the [pandas documentation](https://pandas.pydata.org/). We use random numbers to generate our dataframe, but we could instead read a .csv/.xlsx file, see <code>pandas.read_csv/pandas.read_excel(\"filename\", ...)</code>."
   ]
  },
  {
   "cell_type": "code",
   "execution_count": 37,
   "id": "e396f9be",
   "metadata": {},
   "outputs": [
    {
     "data": {
      "text/html": [
       "<div>\n",
       "<style scoped>\n",
       "    .dataframe tbody tr th:only-of-type {\n",
       "        vertical-align: middle;\n",
       "    }\n",
       "\n",
       "    .dataframe tbody tr th {\n",
       "        vertical-align: top;\n",
       "    }\n",
       "\n",
       "    .dataframe thead th {\n",
       "        text-align: right;\n",
       "    }\n",
       "</style>\n",
       "<table border=\"1\" class=\"dataframe\">\n",
       "  <thead>\n",
       "    <tr style=\"text-align: right;\">\n",
       "      <th></th>\n",
       "      <th>A</th>\n",
       "      <th>B</th>\n",
       "      <th>C</th>\n",
       "      <th>D</th>\n",
       "    </tr>\n",
       "  </thead>\n",
       "  <tbody>\n",
       "    <tr>\n",
       "      <th>0</th>\n",
       "      <td>0.405453</td>\n",
       "      <td>0.289092</td>\n",
       "      <td>1.321158</td>\n",
       "      <td>-1.546906</td>\n",
       "    </tr>\n",
       "    <tr>\n",
       "      <th>1</th>\n",
       "      <td>-0.202646</td>\n",
       "      <td>-0.655969</td>\n",
       "      <td>0.193421</td>\n",
       "      <td>0.553439</td>\n",
       "    </tr>\n",
       "    <tr>\n",
       "      <th>2</th>\n",
       "      <td>1.318152</td>\n",
       "      <td>-0.469305</td>\n",
       "      <td>0.675554</td>\n",
       "      <td>-1.817027</td>\n",
       "    </tr>\n",
       "    <tr>\n",
       "      <th>3</th>\n",
       "      <td>-0.183109</td>\n",
       "      <td>1.058969</td>\n",
       "      <td>-0.397840</td>\n",
       "      <td>0.337438</td>\n",
       "    </tr>\n",
       "    <tr>\n",
       "      <th>4</th>\n",
       "      <td>1.047579</td>\n",
       "      <td>1.045938</td>\n",
       "      <td>0.863717</td>\n",
       "      <td>-0.122092</td>\n",
       "    </tr>\n",
       "  </tbody>\n",
       "</table>\n",
       "</div>"
      ],
      "text/plain": [
       "          A         B         C         D\n",
       "0  0.405453  0.289092  1.321158 -1.546906\n",
       "1 -0.202646 -0.655969  0.193421  0.553439\n",
       "2  1.318152 -0.469305  0.675554 -1.817027\n",
       "3 -0.183109  1.058969 -0.397840  0.337438\n",
       "4  1.047579  1.045938  0.863717 -0.122092"
      ]
     },
     "execution_count": 37,
     "metadata": {},
     "output_type": "execute_result"
    }
   ],
   "source": [
    "import pandas as pd\n",
    "\n",
    "df1 = pd.DataFrame(np.random.randn(8, 4), columns=list('ABCD')) # create a dataframe\n",
    "df1.head() # print the first 5 lines"
   ]
  },
  {
   "cell_type": "code",
   "execution_count": 38,
   "id": "6c085921",
   "metadata": {},
   "outputs": [
    {
     "data": {
      "text/html": [
       "<div>\n",
       "<style scoped>\n",
       "    .dataframe tbody tr th:only-of-type {\n",
       "        vertical-align: middle;\n",
       "    }\n",
       "\n",
       "    .dataframe tbody tr th {\n",
       "        vertical-align: top;\n",
       "    }\n",
       "\n",
       "    .dataframe thead th {\n",
       "        text-align: right;\n",
       "    }\n",
       "</style>\n",
       "<table border=\"1\" class=\"dataframe\">\n",
       "  <thead>\n",
       "    <tr style=\"text-align: right;\">\n",
       "      <th></th>\n",
       "      <th>D</th>\n",
       "      <th>C</th>\n",
       "      <th>B</th>\n",
       "      <th>A</th>\n",
       "    </tr>\n",
       "  </thead>\n",
       "  <tbody>\n",
       "    <tr>\n",
       "      <th>0</th>\n",
       "      <td>-1.546906</td>\n",
       "      <td>1.321158</td>\n",
       "      <td>0.289092</td>\n",
       "      <td>0.405453</td>\n",
       "    </tr>\n",
       "    <tr>\n",
       "      <th>1</th>\n",
       "      <td>0.553439</td>\n",
       "      <td>0.193421</td>\n",
       "      <td>-0.655969</td>\n",
       "      <td>-0.202646</td>\n",
       "    </tr>\n",
       "    <tr>\n",
       "      <th>2</th>\n",
       "      <td>-1.817027</td>\n",
       "      <td>0.675554</td>\n",
       "      <td>-0.469305</td>\n",
       "      <td>1.318152</td>\n",
       "    </tr>\n",
       "    <tr>\n",
       "      <th>3</th>\n",
       "      <td>0.337438</td>\n",
       "      <td>-0.397840</td>\n",
       "      <td>1.058969</td>\n",
       "      <td>-0.183109</td>\n",
       "    </tr>\n",
       "    <tr>\n",
       "      <th>4</th>\n",
       "      <td>-0.122092</td>\n",
       "      <td>0.863717</td>\n",
       "      <td>1.045938</td>\n",
       "      <td>1.047579</td>\n",
       "    </tr>\n",
       "  </tbody>\n",
       "</table>\n",
       "</div>"
      ],
      "text/plain": [
       "          D         C         B         A\n",
       "0 -1.546906  1.321158  0.289092  0.405453\n",
       "1  0.553439  0.193421 -0.655969 -0.202646\n",
       "2 -1.817027  0.675554 -0.469305  1.318152\n",
       "3  0.337438 -0.397840  1.058969 -0.183109\n",
       "4 -0.122092  0.863717  1.045938  1.047579"
      ]
     },
     "execution_count": 38,
     "metadata": {},
     "output_type": "execute_result"
    }
   ],
   "source": [
    "df1.sort_index(axis=1, ascending=False).head() # sort column names by descending order"
   ]
  },
  {
   "cell_type": "code",
   "execution_count": 39,
   "id": "37ca9618",
   "metadata": {},
   "outputs": [
    {
     "data": {
      "text/html": [
       "<div>\n",
       "<style scoped>\n",
       "    .dataframe tbody tr th:only-of-type {\n",
       "        vertical-align: middle;\n",
       "    }\n",
       "\n",
       "    .dataframe tbody tr th {\n",
       "        vertical-align: top;\n",
       "    }\n",
       "\n",
       "    .dataframe thead th {\n",
       "        text-align: right;\n",
       "    }\n",
       "</style>\n",
       "<table border=\"1\" class=\"dataframe\">\n",
       "  <thead>\n",
       "    <tr style=\"text-align: right;\">\n",
       "      <th></th>\n",
       "      <th>A</th>\n",
       "      <th>B</th>\n",
       "      <th>C</th>\n",
       "      <th>D</th>\n",
       "    </tr>\n",
       "  </thead>\n",
       "  <tbody>\n",
       "    <tr>\n",
       "      <th>7</th>\n",
       "      <td>0.247792</td>\n",
       "      <td>-0.897157</td>\n",
       "      <td>-0.136795</td>\n",
       "      <td>0.018289</td>\n",
       "    </tr>\n",
       "    <tr>\n",
       "      <th>6</th>\n",
       "      <td>0.076200</td>\n",
       "      <td>-0.566446</td>\n",
       "      <td>0.036142</td>\n",
       "      <td>-2.074978</td>\n",
       "    </tr>\n",
       "    <tr>\n",
       "      <th>5</th>\n",
       "      <td>0.124713</td>\n",
       "      <td>-0.322795</td>\n",
       "      <td>0.841675</td>\n",
       "      <td>2.390961</td>\n",
       "    </tr>\n",
       "    <tr>\n",
       "      <th>4</th>\n",
       "      <td>1.047579</td>\n",
       "      <td>1.045938</td>\n",
       "      <td>0.863717</td>\n",
       "      <td>-0.122092</td>\n",
       "    </tr>\n",
       "    <tr>\n",
       "      <th>3</th>\n",
       "      <td>-0.183109</td>\n",
       "      <td>1.058969</td>\n",
       "      <td>-0.397840</td>\n",
       "      <td>0.337438</td>\n",
       "    </tr>\n",
       "  </tbody>\n",
       "</table>\n",
       "</div>"
      ],
      "text/plain": [
       "          A         B         C         D\n",
       "7  0.247792 -0.897157 -0.136795  0.018289\n",
       "6  0.076200 -0.566446  0.036142 -2.074978\n",
       "5  0.124713 -0.322795  0.841675  2.390961\n",
       "4  1.047579  1.045938  0.863717 -0.122092\n",
       "3 -0.183109  1.058969 -0.397840  0.337438"
      ]
     },
     "execution_count": 39,
     "metadata": {},
     "output_type": "execute_result"
    }
   ],
   "source": [
    "df1.sort_index(axis=0, ascending=False).head() # sort index names by descending order"
   ]
  },
  {
   "cell_type": "code",
   "execution_count": 40,
   "id": "54d9ec12",
   "metadata": {},
   "outputs": [
    {
     "data": {
      "text/html": [
       "<div>\n",
       "<style scoped>\n",
       "    .dataframe tbody tr th:only-of-type {\n",
       "        vertical-align: middle;\n",
       "    }\n",
       "\n",
       "    .dataframe tbody tr th {\n",
       "        vertical-align: top;\n",
       "    }\n",
       "\n",
       "    .dataframe thead th {\n",
       "        text-align: right;\n",
       "    }\n",
       "</style>\n",
       "<table border=\"1\" class=\"dataframe\">\n",
       "  <thead>\n",
       "    <tr style=\"text-align: right;\">\n",
       "      <th></th>\n",
       "      <th>A</th>\n",
       "      <th>B</th>\n",
       "      <th>C</th>\n",
       "      <th>D</th>\n",
       "    </tr>\n",
       "  </thead>\n",
       "  <tbody>\n",
       "    <tr>\n",
       "      <th>7</th>\n",
       "      <td>0.247792</td>\n",
       "      <td>-0.897157</td>\n",
       "      <td>-0.136795</td>\n",
       "      <td>0.018289</td>\n",
       "    </tr>\n",
       "    <tr>\n",
       "      <th>1</th>\n",
       "      <td>-0.202646</td>\n",
       "      <td>-0.655969</td>\n",
       "      <td>0.193421</td>\n",
       "      <td>0.553439</td>\n",
       "    </tr>\n",
       "    <tr>\n",
       "      <th>6</th>\n",
       "      <td>0.076200</td>\n",
       "      <td>-0.566446</td>\n",
       "      <td>0.036142</td>\n",
       "      <td>-2.074978</td>\n",
       "    </tr>\n",
       "    <tr>\n",
       "      <th>2</th>\n",
       "      <td>1.318152</td>\n",
       "      <td>-0.469305</td>\n",
       "      <td>0.675554</td>\n",
       "      <td>-1.817027</td>\n",
       "    </tr>\n",
       "    <tr>\n",
       "      <th>5</th>\n",
       "      <td>0.124713</td>\n",
       "      <td>-0.322795</td>\n",
       "      <td>0.841675</td>\n",
       "      <td>2.390961</td>\n",
       "    </tr>\n",
       "  </tbody>\n",
       "</table>\n",
       "</div>"
      ],
      "text/plain": [
       "          A         B         C         D\n",
       "7  0.247792 -0.897157 -0.136795  0.018289\n",
       "1 -0.202646 -0.655969  0.193421  0.553439\n",
       "6  0.076200 -0.566446  0.036142 -2.074978\n",
       "2  1.318152 -0.469305  0.675554 -1.817027\n",
       "5  0.124713 -0.322795  0.841675  2.390961"
      ]
     },
     "execution_count": 40,
     "metadata": {},
     "output_type": "execute_result"
    }
   ],
   "source": [
    "df1.sort_values(by='B').head() # sort by values of column \"B\""
   ]
  },
  {
   "cell_type": "code",
   "execution_count": 41,
   "id": "32cbf547",
   "metadata": {},
   "outputs": [
    {
     "data": {
      "text/html": [
       "<div>\n",
       "<style scoped>\n",
       "    .dataframe tbody tr th:only-of-type {\n",
       "        vertical-align: middle;\n",
       "    }\n",
       "\n",
       "    .dataframe tbody tr th {\n",
       "        vertical-align: top;\n",
       "    }\n",
       "\n",
       "    .dataframe thead th {\n",
       "        text-align: right;\n",
       "    }\n",
       "</style>\n",
       "<table border=\"1\" class=\"dataframe\">\n",
       "  <thead>\n",
       "    <tr style=\"text-align: right;\">\n",
       "      <th></th>\n",
       "      <th>A</th>\n",
       "      <th>C</th>\n",
       "    </tr>\n",
       "  </thead>\n",
       "  <tbody>\n",
       "    <tr>\n",
       "      <th>1</th>\n",
       "      <td>-0.202646</td>\n",
       "      <td>0.193421</td>\n",
       "    </tr>\n",
       "    <tr>\n",
       "      <th>2</th>\n",
       "      <td>1.318152</td>\n",
       "      <td>0.675554</td>\n",
       "    </tr>\n",
       "    <tr>\n",
       "      <th>3</th>\n",
       "      <td>-0.183109</td>\n",
       "      <td>-0.397840</td>\n",
       "    </tr>\n",
       "    <tr>\n",
       "      <th>4</th>\n",
       "      <td>1.047579</td>\n",
       "      <td>0.863717</td>\n",
       "    </tr>\n",
       "  </tbody>\n",
       "</table>\n",
       "</div>"
      ],
      "text/plain": [
       "          A         C\n",
       "1 -0.202646  0.193421\n",
       "2  1.318152  0.675554\n",
       "3 -0.183109 -0.397840\n",
       "4  1.047579  0.863717"
      ]
     },
     "execution_count": 41,
     "metadata": {},
     "output_type": "execute_result"
    }
   ],
   "source": [
    "df1.loc[1:4, ['A','C']] # selection, similar to NumPy"
   ]
  },
  {
   "cell_type": "code",
   "execution_count": 42,
   "id": "d9611520",
   "metadata": {},
   "outputs": [
    {
     "data": {
      "text/html": [
       "<div>\n",
       "<style scoped>\n",
       "    .dataframe tbody tr th:only-of-type {\n",
       "        vertical-align: middle;\n",
       "    }\n",
       "\n",
       "    .dataframe tbody tr th {\n",
       "        vertical-align: top;\n",
       "    }\n",
       "\n",
       "    .dataframe thead th {\n",
       "        text-align: right;\n",
       "    }\n",
       "</style>\n",
       "<table border=\"1\" class=\"dataframe\">\n",
       "  <thead>\n",
       "    <tr style=\"text-align: right;\">\n",
       "      <th></th>\n",
       "      <th>A</th>\n",
       "      <th>B</th>\n",
       "      <th>C</th>\n",
       "      <th>D</th>\n",
       "    </tr>\n",
       "  </thead>\n",
       "  <tbody>\n",
       "    <tr>\n",
       "      <th>0</th>\n",
       "      <td>0.405453</td>\n",
       "      <td>0.289092</td>\n",
       "      <td>1.321158</td>\n",
       "      <td>-1.546906</td>\n",
       "    </tr>\n",
       "    <tr>\n",
       "      <th>2</th>\n",
       "      <td>1.318152</td>\n",
       "      <td>-0.469305</td>\n",
       "      <td>0.675554</td>\n",
       "      <td>-1.817027</td>\n",
       "    </tr>\n",
       "    <tr>\n",
       "      <th>4</th>\n",
       "      <td>1.047579</td>\n",
       "      <td>1.045938</td>\n",
       "      <td>0.863717</td>\n",
       "      <td>-0.122092</td>\n",
       "    </tr>\n",
       "    <tr>\n",
       "      <th>5</th>\n",
       "      <td>0.124713</td>\n",
       "      <td>-0.322795</td>\n",
       "      <td>0.841675</td>\n",
       "      <td>2.390961</td>\n",
       "    </tr>\n",
       "    <tr>\n",
       "      <th>6</th>\n",
       "      <td>0.076200</td>\n",
       "      <td>-0.566446</td>\n",
       "      <td>0.036142</td>\n",
       "      <td>-2.074978</td>\n",
       "    </tr>\n",
       "    <tr>\n",
       "      <th>7</th>\n",
       "      <td>0.247792</td>\n",
       "      <td>-0.897157</td>\n",
       "      <td>-0.136795</td>\n",
       "      <td>0.018289</td>\n",
       "    </tr>\n",
       "  </tbody>\n",
       "</table>\n",
       "</div>"
      ],
      "text/plain": [
       "          A         B         C         D\n",
       "0  0.405453  0.289092  1.321158 -1.546906\n",
       "2  1.318152 -0.469305  0.675554 -1.817027\n",
       "4  1.047579  1.045938  0.863717 -0.122092\n",
       "5  0.124713 -0.322795  0.841675  2.390961\n",
       "6  0.076200 -0.566446  0.036142 -2.074978\n",
       "7  0.247792 -0.897157 -0.136795  0.018289"
      ]
     },
     "execution_count": 42,
     "metadata": {},
     "output_type": "execute_result"
    }
   ],
   "source": [
    "df1[df1['A'] > 0] # indexing with booleans, similar to NumPy"
   ]
  },
  {
   "cell_type": "code",
   "execution_count": 43,
   "id": "9cdfd83d",
   "metadata": {},
   "outputs": [
    {
     "data": {
      "text/html": [
       "<div>\n",
       "<style scoped>\n",
       "    .dataframe tbody tr th:only-of-type {\n",
       "        vertical-align: middle;\n",
       "    }\n",
       "\n",
       "    .dataframe tbody tr th {\n",
       "        vertical-align: top;\n",
       "    }\n",
       "\n",
       "    .dataframe thead th {\n",
       "        text-align: right;\n",
       "    }\n",
       "</style>\n",
       "<table border=\"1\" class=\"dataframe\">\n",
       "  <thead>\n",
       "    <tr style=\"text-align: right;\">\n",
       "      <th></th>\n",
       "      <th>A</th>\n",
       "      <th>B</th>\n",
       "      <th>C</th>\n",
       "      <th>D</th>\n",
       "      <th>E</th>\n",
       "    </tr>\n",
       "  </thead>\n",
       "  <tbody>\n",
       "    <tr>\n",
       "      <th>0</th>\n",
       "      <td>0.405453</td>\n",
       "      <td>0.289092</td>\n",
       "      <td>1.321158</td>\n",
       "      <td>-1.546906</td>\n",
       "      <td>one</td>\n",
       "    </tr>\n",
       "    <tr>\n",
       "      <th>1</th>\n",
       "      <td>-0.202646</td>\n",
       "      <td>-0.655969</td>\n",
       "      <td>0.193421</td>\n",
       "      <td>0.553439</td>\n",
       "      <td>two</td>\n",
       "    </tr>\n",
       "    <tr>\n",
       "      <th>2</th>\n",
       "      <td>1.318152</td>\n",
       "      <td>-0.469305</td>\n",
       "      <td>0.675554</td>\n",
       "      <td>-1.817027</td>\n",
       "      <td>three</td>\n",
       "    </tr>\n",
       "    <tr>\n",
       "      <th>3</th>\n",
       "      <td>-0.183109</td>\n",
       "      <td>1.058969</td>\n",
       "      <td>-0.397840</td>\n",
       "      <td>0.337438</td>\n",
       "      <td>four</td>\n",
       "    </tr>\n",
       "    <tr>\n",
       "      <th>4</th>\n",
       "      <td>1.047579</td>\n",
       "      <td>1.045938</td>\n",
       "      <td>0.863717</td>\n",
       "      <td>-0.122092</td>\n",
       "      <td>five</td>\n",
       "    </tr>\n",
       "    <tr>\n",
       "      <th>5</th>\n",
       "      <td>0.124713</td>\n",
       "      <td>-0.322795</td>\n",
       "      <td>0.841675</td>\n",
       "      <td>2.390961</td>\n",
       "      <td>six</td>\n",
       "    </tr>\n",
       "    <tr>\n",
       "      <th>6</th>\n",
       "      <td>0.076200</td>\n",
       "      <td>-0.566446</td>\n",
       "      <td>0.036142</td>\n",
       "      <td>-2.074978</td>\n",
       "      <td>seven</td>\n",
       "    </tr>\n",
       "    <tr>\n",
       "      <th>7</th>\n",
       "      <td>0.247792</td>\n",
       "      <td>-0.897157</td>\n",
       "      <td>-0.136795</td>\n",
       "      <td>0.018289</td>\n",
       "      <td>eight</td>\n",
       "    </tr>\n",
       "    <tr>\n",
       "      <th>9</th>\n",
       "      <td>1.000000</td>\n",
       "      <td>2.000000</td>\n",
       "      <td>1.000000</td>\n",
       "      <td>2.000000</td>\n",
       "      <td>nine</td>\n",
       "    </tr>\n",
       "  </tbody>\n",
       "</table>\n",
       "</div>"
      ],
      "text/plain": [
       "          A         B         C         D      E\n",
       "0  0.405453  0.289092  1.321158 -1.546906    one\n",
       "1 -0.202646 -0.655969  0.193421  0.553439    two\n",
       "2  1.318152 -0.469305  0.675554 -1.817027  three\n",
       "3 -0.183109  1.058969 -0.397840  0.337438   four\n",
       "4  1.047579  1.045938  0.863717 -0.122092   five\n",
       "5  0.124713 -0.322795  0.841675  2.390961    six\n",
       "6  0.076200 -0.566446  0.036142 -2.074978  seven\n",
       "7  0.247792 -0.897157 -0.136795  0.018289  eight\n",
       "9  1.000000  2.000000  1.000000  2.000000   nine"
      ]
     },
     "execution_count": 43,
     "metadata": {},
     "output_type": "execute_result"
    }
   ],
   "source": [
    "df1['E'] = ['one', 'two', 'three', 'four', 'five', 'six', 'seven', 'eight'] # add new columns\n",
    "df1.loc[9] = [1,2,1,2,'nine'] # add new observations\n",
    "df1"
   ]
  },
  {
   "cell_type": "code",
   "execution_count": 44,
   "id": "951b2eee",
   "metadata": {},
   "outputs": [
    {
     "data": {
      "text/html": [
       "<div>\n",
       "<style scoped>\n",
       "    .dataframe tbody tr th:only-of-type {\n",
       "        vertical-align: middle;\n",
       "    }\n",
       "\n",
       "    .dataframe tbody tr th {\n",
       "        vertical-align: top;\n",
       "    }\n",
       "\n",
       "    .dataframe thead th {\n",
       "        text-align: right;\n",
       "    }\n",
       "</style>\n",
       "<table border=\"1\" class=\"dataframe\">\n",
       "  <thead>\n",
       "    <tr style=\"text-align: right;\">\n",
       "      <th></th>\n",
       "      <th>A</th>\n",
       "      <th>B</th>\n",
       "      <th>C</th>\n",
       "      <th>D</th>\n",
       "      <th>E</th>\n",
       "    </tr>\n",
       "  </thead>\n",
       "  <tbody>\n",
       "    <tr>\n",
       "      <th>0</th>\n",
       "      <td>0.405453</td>\n",
       "      <td>0.289092</td>\n",
       "      <td>1.321158</td>\n",
       "      <td>-1.546906</td>\n",
       "      <td>one</td>\n",
       "    </tr>\n",
       "    <tr>\n",
       "      <th>1</th>\n",
       "      <td>-0.202646</td>\n",
       "      <td>-0.655969</td>\n",
       "      <td>0.193421</td>\n",
       "      <td>0.553439</td>\n",
       "      <td>two</td>\n",
       "    </tr>\n",
       "    <tr>\n",
       "      <th>2</th>\n",
       "      <td>1.318152</td>\n",
       "      <td>-0.469305</td>\n",
       "      <td>0.675554</td>\n",
       "      <td>-1.817027</td>\n",
       "      <td>three</td>\n",
       "    </tr>\n",
       "    <tr>\n",
       "      <th>3</th>\n",
       "      <td>-0.183109</td>\n",
       "      <td>1.058969</td>\n",
       "      <td>-0.397840</td>\n",
       "      <td>0.337438</td>\n",
       "      <td>four</td>\n",
       "    </tr>\n",
       "    <tr>\n",
       "      <th>4</th>\n",
       "      <td>1.047579</td>\n",
       "      <td>1.045938</td>\n",
       "      <td>0.863717</td>\n",
       "      <td>-0.122092</td>\n",
       "      <td>five</td>\n",
       "    </tr>\n",
       "    <tr>\n",
       "      <th>5</th>\n",
       "      <td>0.124713</td>\n",
       "      <td>-0.322795</td>\n",
       "      <td>0.841675</td>\n",
       "      <td>2.390961</td>\n",
       "      <td>six</td>\n",
       "    </tr>\n",
       "    <tr>\n",
       "      <th>6</th>\n",
       "      <td>0.076200</td>\n",
       "      <td>-0.566446</td>\n",
       "      <td>0.036142</td>\n",
       "      <td>-2.074978</td>\n",
       "      <td>seven</td>\n",
       "    </tr>\n",
       "    <tr>\n",
       "      <th>7</th>\n",
       "      <td>0.247792</td>\n",
       "      <td>-0.897157</td>\n",
       "      <td>-0.136795</td>\n",
       "      <td>0.018289</td>\n",
       "      <td>eight</td>\n",
       "    </tr>\n",
       "    <tr>\n",
       "      <th>9</th>\n",
       "      <td>1.000000</td>\n",
       "      <td>2.000000</td>\n",
       "      <td>1.000000</td>\n",
       "      <td>2.000000</td>\n",
       "      <td>nine</td>\n",
       "    </tr>\n",
       "    <tr>\n",
       "      <th>0</th>\n",
       "      <td>0.755414</td>\n",
       "      <td>0.215269</td>\n",
       "      <td>0.841009</td>\n",
       "      <td>-1.445810</td>\n",
       "      <td>NaN</td>\n",
       "    </tr>\n",
       "    <tr>\n",
       "      <th>1</th>\n",
       "      <td>-1.401973</td>\n",
       "      <td>-0.100918</td>\n",
       "      <td>-0.548242</td>\n",
       "      <td>-0.144620</td>\n",
       "      <td>NaN</td>\n",
       "    </tr>\n",
       "    <tr>\n",
       "      <th>2</th>\n",
       "      <td>0.354020</td>\n",
       "      <td>-0.035513</td>\n",
       "      <td>0.565738</td>\n",
       "      <td>1.545659</td>\n",
       "      <td>NaN</td>\n",
       "    </tr>\n",
       "    <tr>\n",
       "      <th>3</th>\n",
       "      <td>-0.974236</td>\n",
       "      <td>-0.070345</td>\n",
       "      <td>0.307969</td>\n",
       "      <td>-0.208499</td>\n",
       "      <td>NaN</td>\n",
       "    </tr>\n",
       "    <tr>\n",
       "      <th>4</th>\n",
       "      <td>1.033801</td>\n",
       "      <td>-2.400454</td>\n",
       "      <td>2.030604</td>\n",
       "      <td>-1.142631</td>\n",
       "      <td>NaN</td>\n",
       "    </tr>\n",
       "    <tr>\n",
       "      <th>5</th>\n",
       "      <td>0.211883</td>\n",
       "      <td>0.704721</td>\n",
       "      <td>-0.785435</td>\n",
       "      <td>0.462060</td>\n",
       "      <td>NaN</td>\n",
       "    </tr>\n",
       "    <tr>\n",
       "      <th>6</th>\n",
       "      <td>0.704228</td>\n",
       "      <td>0.523508</td>\n",
       "      <td>-0.926254</td>\n",
       "      <td>2.007843</td>\n",
       "      <td>NaN</td>\n",
       "    </tr>\n",
       "    <tr>\n",
       "      <th>7</th>\n",
       "      <td>0.226963</td>\n",
       "      <td>-1.152659</td>\n",
       "      <td>0.631979</td>\n",
       "      <td>0.039513</td>\n",
       "      <td>NaN</td>\n",
       "    </tr>\n",
       "  </tbody>\n",
       "</table>\n",
       "</div>"
      ],
      "text/plain": [
       "          A         B         C         D      E\n",
       "0  0.405453  0.289092  1.321158 -1.546906    one\n",
       "1 -0.202646 -0.655969  0.193421  0.553439    two\n",
       "2  1.318152 -0.469305  0.675554 -1.817027  three\n",
       "3 -0.183109  1.058969 -0.397840  0.337438   four\n",
       "4  1.047579  1.045938  0.863717 -0.122092   five\n",
       "5  0.124713 -0.322795  0.841675  2.390961    six\n",
       "6  0.076200 -0.566446  0.036142 -2.074978  seven\n",
       "7  0.247792 -0.897157 -0.136795  0.018289  eight\n",
       "9  1.000000  2.000000  1.000000  2.000000   nine\n",
       "0  0.755414  0.215269  0.841009 -1.445810    NaN\n",
       "1 -1.401973 -0.100918 -0.548242 -0.144620    NaN\n",
       "2  0.354020 -0.035513  0.565738  1.545659    NaN\n",
       "3 -0.974236 -0.070345  0.307969 -0.208499    NaN\n",
       "4  1.033801 -2.400454  2.030604 -1.142631    NaN\n",
       "5  0.211883  0.704721 -0.785435  0.462060    NaN\n",
       "6  0.704228  0.523508 -0.926254  2.007843    NaN\n",
       "7  0.226963 -1.152659  0.631979  0.039513    NaN"
      ]
     },
     "execution_count": 44,
     "metadata": {},
     "output_type": "execute_result"
    }
   ],
   "source": [
    "df2 = pd.DataFrame(np.random.randn(8,4), columns=list('ABCD')) # create another dataframe\n",
    "df3 = pd.concat([df1, df2]) # concatenate both dataframes (reset index names with ignore_index=True)\n",
    "df3"
   ]
  },
  {
   "cell_type": "code",
   "execution_count": 45,
   "id": "ab86fa3d",
   "metadata": {},
   "outputs": [
    {
     "data": {
      "text/html": [
       "<div>\n",
       "<style scoped>\n",
       "    .dataframe tbody tr th:only-of-type {\n",
       "        vertical-align: middle;\n",
       "    }\n",
       "\n",
       "    .dataframe tbody tr th {\n",
       "        vertical-align: top;\n",
       "    }\n",
       "\n",
       "    .dataframe thead th {\n",
       "        text-align: right;\n",
       "    }\n",
       "</style>\n",
       "<table border=\"1\" class=\"dataframe\">\n",
       "  <thead>\n",
       "    <tr style=\"text-align: right;\">\n",
       "      <th></th>\n",
       "      <th>B</th>\n",
       "      <th>C</th>\n",
       "      <th>D</th>\n",
       "    </tr>\n",
       "  </thead>\n",
       "  <tbody>\n",
       "    <tr>\n",
       "      <th>0</th>\n",
       "      <td>0.215269</td>\n",
       "      <td>0.841009</td>\n",
       "      <td>-1.445810</td>\n",
       "    </tr>\n",
       "    <tr>\n",
       "      <th>1</th>\n",
       "      <td>-0.100918</td>\n",
       "      <td>-0.548242</td>\n",
       "      <td>-0.144620</td>\n",
       "    </tr>\n",
       "    <tr>\n",
       "      <th>2</th>\n",
       "      <td>-0.035513</td>\n",
       "      <td>0.565738</td>\n",
       "      <td>1.545659</td>\n",
       "    </tr>\n",
       "    <tr>\n",
       "      <th>3</th>\n",
       "      <td>-0.070345</td>\n",
       "      <td>0.307969</td>\n",
       "      <td>-0.208499</td>\n",
       "    </tr>\n",
       "    <tr>\n",
       "      <th>4</th>\n",
       "      <td>-2.400454</td>\n",
       "      <td>2.030604</td>\n",
       "      <td>-1.142631</td>\n",
       "    </tr>\n",
       "    <tr>\n",
       "      <th>5</th>\n",
       "      <td>0.704721</td>\n",
       "      <td>-0.785435</td>\n",
       "      <td>0.462060</td>\n",
       "    </tr>\n",
       "    <tr>\n",
       "      <th>6</th>\n",
       "      <td>0.523508</td>\n",
       "      <td>-0.926254</td>\n",
       "      <td>2.007843</td>\n",
       "    </tr>\n",
       "    <tr>\n",
       "      <th>7</th>\n",
       "      <td>-1.152659</td>\n",
       "      <td>0.631979</td>\n",
       "      <td>0.039513</td>\n",
       "    </tr>\n",
       "  </tbody>\n",
       "</table>\n",
       "</div>"
      ],
      "text/plain": [
       "          B         C         D\n",
       "0  0.215269  0.841009 -1.445810\n",
       "1 -0.100918 -0.548242 -0.144620\n",
       "2 -0.035513  0.565738  1.545659\n",
       "3 -0.070345  0.307969 -0.208499\n",
       "4 -2.400454  2.030604 -1.142631\n",
       "5  0.704721 -0.785435  0.462060\n",
       "6  0.523508 -0.926254  2.007843\n",
       "7 -1.152659  0.631979  0.039513"
      ]
     },
     "execution_count": 45,
     "metadata": {},
     "output_type": "execute_result"
    }
   ],
   "source": [
    "df2.drop(3, axis=0) # remove observations\n",
    "df2.drop('A', axis=1) # remove columns"
   ]
  },
  {
   "cell_type": "code",
   "execution_count": 46,
   "id": "a41e7926",
   "metadata": {},
   "outputs": [
    {
     "data": {
      "text/html": [
       "<div>\n",
       "<style scoped>\n",
       "    .dataframe tbody tr th:only-of-type {\n",
       "        vertical-align: middle;\n",
       "    }\n",
       "\n",
       "    .dataframe tbody tr th {\n",
       "        vertical-align: top;\n",
       "    }\n",
       "\n",
       "    .dataframe thead th {\n",
       "        text-align: right;\n",
       "    }\n",
       "</style>\n",
       "<table border=\"1\" class=\"dataframe\">\n",
       "  <thead>\n",
       "    <tr style=\"text-align: right;\">\n",
       "      <th></th>\n",
       "      <th>A</th>\n",
       "      <th>B</th>\n",
       "      <th>C</th>\n",
       "      <th>D</th>\n",
       "      <th>E</th>\n",
       "    </tr>\n",
       "  </thead>\n",
       "  <tbody>\n",
       "    <tr>\n",
       "      <th>0</th>\n",
       "      <td>0.405453</td>\n",
       "      <td>0.289092</td>\n",
       "      <td>1.321158</td>\n",
       "      <td>-1.546906</td>\n",
       "      <td>one</td>\n",
       "    </tr>\n",
       "    <tr>\n",
       "      <th>0</th>\n",
       "      <td>0.755414</td>\n",
       "      <td>0.215269</td>\n",
       "      <td>0.841009</td>\n",
       "      <td>-1.445810</td>\n",
       "      <td>NaN</td>\n",
       "    </tr>\n",
       "  </tbody>\n",
       "</table>\n",
       "</div>"
      ],
      "text/plain": [
       "          A         B         C         D    E\n",
       "0  0.405453  0.289092  1.321158 -1.546906  one\n",
       "0  0.755414  0.215269  0.841009 -1.445810  NaN"
      ]
     },
     "execution_count": 46,
     "metadata": {},
     "output_type": "execute_result"
    }
   ],
   "source": [
    "df3.loc[0] # selection by index"
   ]
  },
  {
   "cell_type": "code",
   "execution_count": 47,
   "id": "bc25d597",
   "metadata": {},
   "outputs": [
    {
     "data": {
      "text/plain": [
       "A    0.405453\n",
       "B    0.289092\n",
       "C    1.321158\n",
       "D   -1.546906\n",
       "E         one\n",
       "Name: 0, dtype: object"
      ]
     },
     "execution_count": 47,
     "metadata": {},
     "output_type": "execute_result"
    }
   ],
   "source": [
    "df3.iloc[0] # selection by rows"
   ]
  },
  {
   "cell_type": "code",
   "execution_count": 48,
   "id": "4b3b7781",
   "metadata": {},
   "outputs": [
    {
     "data": {
      "text/html": [
       "<div>\n",
       "<style scoped>\n",
       "    .dataframe tbody tr th:only-of-type {\n",
       "        vertical-align: middle;\n",
       "    }\n",
       "\n",
       "    .dataframe tbody tr th {\n",
       "        vertical-align: top;\n",
       "    }\n",
       "\n",
       "    .dataframe thead th {\n",
       "        text-align: right;\n",
       "    }\n",
       "</style>\n",
       "<table border=\"1\" class=\"dataframe\">\n",
       "  <thead>\n",
       "    <tr style=\"text-align: right;\">\n",
       "      <th></th>\n",
       "      <th>Class</th>\n",
       "      <th>Grade</th>\n",
       "    </tr>\n",
       "    <tr>\n",
       "      <th>Course</th>\n",
       "      <th></th>\n",
       "      <th></th>\n",
       "    </tr>\n",
       "  </thead>\n",
       "  <tbody>\n",
       "    <tr>\n",
       "      <th>Fin2000</th>\n",
       "      <td>4</td>\n",
       "      <td>4</td>\n",
       "    </tr>\n",
       "    <tr>\n",
       "      <th>Python101</th>\n",
       "      <td>7</td>\n",
       "      <td>7</td>\n",
       "    </tr>\n",
       "  </tbody>\n",
       "</table>\n",
       "</div>"
      ],
      "text/plain": [
       "           Class  Grade\n",
       "Course                 \n",
       "Fin2000        4      4\n",
       "Python101      7      7"
      ]
     },
     "execution_count": 48,
     "metadata": {},
     "output_type": "execute_result"
    }
   ],
   "source": [
    "grades_df = pd.read_excel(\"grades.xlsx\", header=1)\n",
    "grades_df.groupby('Course').count()"
   ]
  },
  {
   "cell_type": "code",
   "execution_count": 49,
   "id": "68cc1326",
   "metadata": {},
   "outputs": [
    {
     "data": {
      "text/html": [
       "<div>\n",
       "<style scoped>\n",
       "    .dataframe tbody tr th:only-of-type {\n",
       "        vertical-align: middle;\n",
       "    }\n",
       "\n",
       "    .dataframe tbody tr th {\n",
       "        vertical-align: top;\n",
       "    }\n",
       "\n",
       "    .dataframe thead th {\n",
       "        text-align: right;\n",
       "    }\n",
       "</style>\n",
       "<table border=\"1\" class=\"dataframe\">\n",
       "  <thead>\n",
       "    <tr style=\"text-align: right;\">\n",
       "      <th></th>\n",
       "      <th></th>\n",
       "      <th>Grade</th>\n",
       "    </tr>\n",
       "    <tr>\n",
       "      <th>Course</th>\n",
       "      <th>Class</th>\n",
       "      <th></th>\n",
       "    </tr>\n",
       "  </thead>\n",
       "  <tbody>\n",
       "    <tr>\n",
       "      <th rowspan=\"2\" valign=\"top\">Fin2000</th>\n",
       "      <th>A</th>\n",
       "      <td>75.000000</td>\n",
       "    </tr>\n",
       "    <tr>\n",
       "      <th>B</th>\n",
       "      <td>82.333333</td>\n",
       "    </tr>\n",
       "    <tr>\n",
       "      <th rowspan=\"2\" valign=\"top\">Python101</th>\n",
       "      <th>A</th>\n",
       "      <td>79.250000</td>\n",
       "    </tr>\n",
       "    <tr>\n",
       "      <th>B</th>\n",
       "      <td>84.000000</td>\n",
       "    </tr>\n",
       "  </tbody>\n",
       "</table>\n",
       "</div>"
      ],
      "text/plain": [
       "                     Grade\n",
       "Course    Class           \n",
       "Fin2000   A      75.000000\n",
       "          B      82.333333\n",
       "Python101 A      79.250000\n",
       "          B      84.000000"
      ]
     },
     "execution_count": 49,
     "metadata": {},
     "output_type": "execute_result"
    }
   ],
   "source": [
    "grades_df.groupby(['Course','Class']).mean()"
   ]
  },
  {
   "cell_type": "markdown",
   "id": "5ee71a46",
   "metadata": {},
   "source": [
    "## 8. Matplotlib library\n",
    "There exists other options for producing plots, such as [seaborn](https://seaborn.pydata.org/) and [Plotly](https://plotly.com/python/). For more information on the Matplotlib library, see the [Matplotlib documentation](https://matplotlib.org/)."
   ]
  },
  {
   "cell_type": "code",
   "execution_count": 50,
   "id": "9f45d0cc",
   "metadata": {},
   "outputs": [],
   "source": [
    "import matplotlib.pyplot as plt\n",
    "\n",
    "xs = np.linspace(0, 10, 20, endpoint = False)\n",
    "y1s = 2 * xs\n",
    "y2s = 3 * xs\n",
    "x_grid, y_grid = np.meshgrid(xs, xs)"
   ]
  },
  {
   "cell_type": "code",
   "execution_count": 51,
   "id": "01652327",
   "metadata": {},
   "outputs": [
    {
     "data": {
      "image/png": "[encoded data removed]",
      "text/plain": [
       "<Figure size 432x288 with 1 Axes>"
      ]
     },
     "metadata": {
      "needs_background": "light"
     },
     "output_type": "display_data"
    }
   ],
   "source": [
    "fig, axes = plt.subplots() # figure object, array of axes object\n",
    "# lines\n",
    "axes.plot(xs, y1s, color='red', linewidth=1.5)\n",
    "axes.scatter(xs, y2s, color='green', marker='x')\n",
    "# labels\n",
    "axes.set_title('Title of the figure', fontsize = 30)\n",
    "axes.set_xlabel('X axis', fontsize = 20)\n",
    "axes.set_ylabel('Y axis')\n",
    "# aesthetics\n",
    "axes.set_xlim(0,10)\n",
    "axes.set_ylim(-2, 30)\n",
    "axes.legend(['Red line', 'Green line'], fontsize=16)\n",
    "plt.show()"
   ]
  },
  {
   "cell_type": "code",
   "execution_count": 52,
   "id": "73a2be59",
   "metadata": {
    "scrolled": true
   },
   "outputs": [
    {
     "data": {
      "image/png": "[encoded data removed]",
      "text/plain": [
       "<Figure size 864x576 with 6 Axes>"
      ]
     },
     "metadata": {
      "needs_background": "light"
     },
     "output_type": "display_data"
    }
   ],
   "source": [
    "fig, axes = plt.subplots(2, 3, figsize=(12,8), sharex = True) # 2 rows and 3 columns of subplots\n",
    "for idx_row, row in enumerate(axes):\n",
    "    if idx_row == 0:\n",
    "        col = 'red'\n",
    "    else:\n",
    "        col = 'blue'\n",
    "    for idx_ax, ax in enumerate(row):\n",
    "        ax.scatter(xs, y2s, color=col, marker=idx_ax+3, s=100)\n",
    "        ax.set_xlabel(\"X-axis\", fontsize=16)\n",
    "        ax.set_ylabel(\"Y-axis\", fontsize=16)\n",
    "        ax.set_title(\"Subplot (\" + str(idx_row) + \", \" + str(idx_ax) + \")\", fontsize=16)\n",
    "fig.suptitle('Figure Title', fontsize=16)\n",
    "plt.show()"
   ]
  },
  {
   "cell_type": "code",
   "execution_count": 53,
   "id": "f820b599",
   "metadata": {},
   "outputs": [
    {
     "data": {
      "image/png": "[encoded data removed]",
      "text/plain": [
       "<Figure size 720x432 with 3 Axes>"
      ]
     },
     "metadata": {
      "needs_background": "light"
     },
     "output_type": "display_data"
    }
   ],
   "source": [
    "fig, axes = plt.subplots(1, 2, figsize=(10,6))\n",
    "# histogram with fixed number of bins\n",
    "axes[0].hist(np.random.randn(100), bins = 50)\n",
    "axes[0].set_title(\"Title of the histogram\")\n",
    "axes[0].set_xlabel('Values')\n",
    "axes[0].set_ylabel('Count')\n",
    "# contour plot\n",
    "temp = axes[1].contourf(x_grid,\n",
    "                        y_grid,\n",
    "                        np.exp(np.cos(np.sqrt(x_grid**2 + y_grid**2))),\n",
    "                        cmap='RdGy',\n",
    "                        levels=20)\n",
    "axes[1].set_title(\"Title of the contour plot\")\n",
    "axes[1].set_xlabel('X-axis')\n",
    "axes[1].set_ylabel('Y-axis')\n",
    "plt.colorbar(temp)\n",
    "plt.show()"
   ]
  },
  {
   "cell_type": "markdown",
   "id": "f6204572",
   "metadata": {},
   "source": [
    "## 9. Create functions\n",
    "\n",
    "Suppose we want to simulate trajectories from a geometric Brownian motion (GBM) satisfying the SDE\n",
    "$$\n",
    "d S_t = \\mu S_t d t + \\sigma S_t d W_t,\n",
    "$$\n",
    "where $W_t$ is a Brownian motion. The solution is\n",
    "$$\n",
    "\\frac{S_t}{S_0} = \\exp\\Bigg\\{ \\bigg(\\mu - \\frac{\\sigma^2}{2} \\bigg) t + \\sigma W_t \\Bigg\\}.\n",
    "$$\n",
    "\n",
    "Assuming we discretize the process, we obtain\n",
    "$$\n",
    "\\frac{S_{t+\\Delta t}}{S_{t}} = \\exp\\Big\\{ \\bigg(\\mu - \\frac{\\sigma^2}{2} \\bigg) \\Delta t + \\sigma \\Delta t Z \\Big\\}, \\qquad Z \\sim N(0,1).\n",
    "$$"
   ]
  },
  {
   "cell_type": "code",
   "execution_count": 54,
   "id": "4c1f0805",
   "metadata": {},
   "outputs": [],
   "source": [
    "from GBM1 import GBM1"
   ]
  },
  {
   "cell_type": "code",
   "execution_count": 55,
   "id": "62bafbcf",
   "metadata": {
    "scrolled": true
   },
   "outputs": [
    {
     "data": {
      "image/png": "[encoded data removed]",
      "text/plain": [
       "<Figure size 432x288 with 1 Axes>"
      ]
     },
     "metadata": {
      "needs_background": "light"
     },
     "output_type": "display_data"
    }
   ],
   "source": [
    "# initialize different parameters\n",
    "initial_price = 10\n",
    "mu = 0.1\n",
    "vol = 0.2\n",
    "terminal = 1\n",
    "Ndt = 2**10\n",
    "Nsims = 500\n",
    "\n",
    "# use the function with the right syntax\n",
    "t1, price1 = GBM1(initial_price, mu, vol, terminal, Ndt, Nsims); # 500 sims\n",
    "t2, price2 = GBM1(initial_price, mu, vol, terminal, Ndt); # 10 sims\n",
    "# t3, price3 = GBM1(initial_price, mu, vol, terminal, Ndt, -50); # error\n",
    "\n",
    "# plot the GBM paths\n",
    "fig, axes = plt.subplots()\n",
    "axes.plot(t1, price1[:,0:10], linewidth=0.5)\n",
    "axes.plot(t1, np.transpose(np.quantile(price1, [0.1,0.5,0.9], axis=1)), color='black', linewidth=1.5)\n",
    "axes.set_title('Simulations of a Geometric Brownian Motion', fontsize = 20)\n",
    "axes.set_xlabel('Time', fontsize = 20)\n",
    "axes.set_ylabel('Value', fontsize = 20)\n",
    "plt.show()"
   ]
  },
  {
   "cell_type": "markdown",
   "id": "933a5362",
   "metadata": {},
   "source": [
    "## 10. SciPy library\n",
    "Several functions for scientific computing. For more information on this library, see the [SciPy documentation](https://scipy.org/)."
   ]
  },
  {
   "cell_type": "markdown",
   "id": "40e8a68c",
   "metadata": {},
   "source": [
    "One library of interest for optimization: scipy.optimize. Suppose you want to minimize the following function (i.e. 2D Rosenbreck function):\n",
    "$$\n",
    "f(x,y) = 100 (y - x^2)^2 + (1 - x)^2\n",
    "$$\n",
    "subject to:\n",
    "$$\n",
    "1 - x - y \\geq 0\\\\\n",
    "x, y \\geq 0\n",
    "$$"
   ]
  },
  {
   "cell_type": "code",
   "execution_count": 56,
   "id": "b1832fb3",
   "metadata": {},
   "outputs": [
    {
     "name": "stdout",
     "output_type": "stream",
     "text": [
      "Optimization terminated successfully    (Exit mode 0)\n",
      "            Current function value: 0.14560701802826193\n",
      "            Iterations: 10\n",
      "            Function evaluations: 33\n",
      "            Gradient evaluations: 10\n",
      "[0.61879562 0.38120438]\n"
     ]
    }
   ],
   "source": [
    "from scipy.optimize import minimize # import the minimize module\n",
    "\n",
    "def rosen(x): # define the function\n",
    "    return sum(100.0*(x[1:]-x[:-1]**2.0)**2.0 + (1-x[:-1])**2.0)\n",
    "\n",
    "# define inequalities\n",
    "ineq_cons = {'type': 'ineq',\n",
    "             'fun' : lambda x: np.array([x[0],\n",
    "                                         x[1],\n",
    "                                         1 - x[0] - x[1]]),}\n",
    "\n",
    "res = minimize(rosen, # function to minimize\n",
    "               np.array([0.5, 0]), # starting values\n",
    "               method='SLSQP', # optimization method\n",
    "               constraints=[ineq_cons], # constraints\n",
    "               options={'ftol': 1e-9, 'disp': True})\n",
    "print(res.x)"
   ]
  },
  {
   "cell_type": "code",
   "execution_count": 57,
   "id": "bf62ce20",
   "metadata": {},
   "outputs": [],
   "source": [
    "def rosen2D(X, Y):\n",
    "    vals = []\n",
    "    for i in range(len(X)):\n",
    "        vals.append(rosen(np.array([X[i], Y[i]])))\n",
    "    return np.array(vals)"
   ]
  },
  {
   "cell_type": "code",
   "execution_count": 58,
   "id": "118163d7",
   "metadata": {},
   "outputs": [
    {
     "data": {
      "text/plain": [
       "<matplotlib.collections.PathCollection at 0x19fdb448c10>"
      ]
     },
     "execution_count": 58,
     "metadata": {},
     "output_type": "execute_result"
    },
    {
     "data": {
      "image/png": "[encoded data removed]",
      "text/plain": [
       "<Figure size 432x288 with 2 Axes>"
      ]
     },
     "metadata": {
      "needs_background": "light"
     },
     "output_type": "display_data"
    }
   ],
   "source": [
    "x = np.linspace(0, 1, 50)\n",
    "y = np.linspace(0, 1, 50)\n",
    "X, Y = np.meshgrid(x, y)\n",
    "Z = rosen2D(X, Y)\n",
    "\n",
    "fig, axes = plt.subplots()\n",
    "temp = axes.contourf(X, Y, Z, cmap='RdGy', levels=30)\n",
    "plt.colorbar(temp)\n",
    "axes.scatter(res.x[0], res.x[1], marker='*', color='gold', s=100)"
   ]
  },
  {
   "cell_type": "markdown",
   "id": "906d7c24",
   "metadata": {},
   "source": [
    "## 11. Custom classes\n",
    "\n",
    "It allows you to create a blueprint for any object with its own properties and variables."
   ]
  },
  {
   "cell_type": "code",
   "execution_count": 59,
   "id": "5af6de71",
   "metadata": {},
   "outputs": [
    {
     "name": "stdout",
     "output_type": "stream",
     "text": [
      "Anthony Coache : ( $ 75000 ); started on 2019-01-01\n"
     ]
    }
   ],
   "source": [
    "from classes import Company, Employee\n",
    "\n",
    "company1 = Company(\"Deloitte\", 1845)\n",
    "company2 = Company(\"Manulife\", 1887)\n",
    "\n",
    "worker1 = Employee(\"Anthony Coache\", \"2019-01-01\", 75000)\n",
    "worker2 = Employee(\"Jane Doe\", \"2000-07-01\", 90000)\n",
    "worker3 = Employee(\"SpongeBob SquarePants\", \"1999-05-01\", 100000)\n",
    "\n",
    "worker1.print_profile()"
   ]
  },
  {
   "cell_type": "code",
   "execution_count": 60,
   "id": "6da5a818",
   "metadata": {},
   "outputs": [
    {
     "name": "stdout",
     "output_type": "stream",
     "text": [
      "*** COMPANY NAME: DELOITTE  ***\n",
      "    Number of employees: 2  \n",
      "\n",
      "Anthony Coache : ( $ 75000 ); started on 2019-01-01\n",
      "Jane Doe : ( $ 90000 ); started on 2000-07-01\n",
      "\n",
      "*** COMPANY NAME: MANULIFE  ***\n",
      "    Number of employees: 1  \n",
      "\n",
      "SpongeBob SquarePants : ( $ 100000 ); started on 1999-05-01\n",
      "\n"
     ]
    }
   ],
   "source": [
    "company1.add_employee(worker1)\n",
    "company1.add_employee(worker2)\n",
    "company2.add_employee(worker3)\n",
    "\n",
    "company1.show_employees()\n",
    "company2.show_employees()"
   ]
  },
  {
   "cell_type": "markdown",
   "id": "8027a811",
   "metadata": {},
   "source": [
    "## 12. Debugging\n",
    "\n",
    "The Python debugger allows you to put breakpoints in your code (e.g. functions, longer scripts), and inspect variables in an interactive way. Here are some shortcuts with the pdb library:\n",
    "\n",
    "- <code>continue</code> or <code>c</code>: continue execution\n",
    "- <code>where</code> or <code>w</code>: shows the context of the current line it is executing.\n",
    "- <code>args</code> or <code>a</code>: print the argument list of the current function\n",
    "- <code>step</code> or <code>s</code>: execute the current line and stop at the first possible occasion.\n",
    "- <code>next</code> or <code>n</code>: continue execution until the next line in the current function is reached or it returns.\n",
    "\n",
    "For more information, see the [pdb documentation](https://docs.python.org/3/library/pdb.html)."
   ]
  },
  {
   "cell_type": "code",
   "execution_count": 61,
   "id": "0c8c98ae",
   "metadata": {},
   "outputs": [],
   "source": [
    "import pdb\n",
    "\n",
    "def func(a, b):\n",
    "    counter = 0\n",
    "    pdb.set_trace() # breakpoint\n",
    "    for i in range(b):\n",
    "        counter += a\n",
    "    return counter"
   ]
  }
 ],
 "metadata": {
  "kernelspec": {
   "display_name": "Python 3 (ipykernel)",
   "language": "python",
   "name": "python3"
  },
  "language_info": {
   "codemirror_mode": {
    "name": "ipython",
    "version": 3
   },
   "file_extension": ".py",
   "mimetype": "text/x-python",
   "name": "python",
   "nbconvert_exporter": "python",
   "pygments_lexer": "ipython3",
   "version": "3.9.7"
  }
 },
 "nbformat": 4,
 "nbformat_minor": 5
}
